{
 "cells": [
  {
   "cell_type": "markdown",
   "metadata": {},
   "source": [
    "# Data engineering with Dask"
   ]
  },
  {
   "cell_type": "markdown",
   "metadata": {},
   "source": [
    "This notebook describes the process to download and prepare United States presidential election data. You will address missing values, reformat data types, and restructure the format of a table."
   ]
  },
  {
   "cell_type": "markdown",
   "metadata": {},
   "source": [
    "***"
   ]
  },
  {
   "cell_type": "markdown",
   "metadata": {},
   "source": [
    "## Load and prepare data"
   ]
  },
  {
   "cell_type": "markdown",
   "metadata": {},
   "source": [
    "To download and prepare the election data, you will use ArcPy, the ArcGIS API for Python, matplotlib for visualization and a Dask dataframe. First, you will import these modules to use them. Then, you will create a variable for the United States county election data and use this variable to read the data into a Dask dataframe."
   ]
  },
  {
   "cell_type": "markdown",
   "metadata": {},
   "source": [
    "##### Import needed modules"
   ]
  },
  {
   "cell_type": "code",
   "execution_count": 1,
   "metadata": {},
   "outputs": [
    {
     "name": "stderr",
     "output_type": "stream",
     "text": [
      "/home/qwerty/anaconda3/lib/python3.7/site-packages/arcgis/features/_data/geodataset/utils.py:15: FutureWarning: The pandas.datetime class is deprecated and will be removed from pandas in a future version. Import from datetime module instead.\n",
      "  pd.datetime,\n",
      "/home/qwerty/anaconda3/lib/python3.7/site-packages/dask/dataframe/utils.py:15: FutureWarning: pandas.util.testing is deprecated. Use the functions in the public API at pandas.testing instead.\n",
      "  import pandas.util.testing as tm\n"
     ]
    }
   ],
   "source": [
    "import arcgis\n",
    "import dask.dataframe as dd\n",
    "import dask.array as da\n",
    "import matplotlib.pyplot as plt\n",
    "import os\n",
    "\n",
    "\n",
    "#import arcpy"
   ]
  },
  {
   "cell_type": "markdown",
   "metadata": {},
   "source": [
    "##### Read data into Python"
   ]
  },
  {
   "cell_type": "code",
   "execution_count": 2,
   "metadata": {},
   "outputs": [],
   "source": [
    "dask_df = dd.read_csv(\"countypres2016.csv\", assume_missing=True)"
   ]
  },
  {
   "cell_type": "markdown",
   "metadata": {},
   "source": [
    "The is usually a dtype inference failure as Dask in attempt to aid memory management takes all numeric values as 'Íntegers (int64)', this can be fixed by manually adding the dtype when reading the data or provide 'assume_missing=True' to intepret all unspecified integer columns as floats."
   ]
  },
  {
   "cell_type": "code",
   "execution_count": 3,
   "metadata": {},
   "outputs": [
    {
     "data": {
      "text/html": [
       "<table style=\"border: 2px solid white;\">\n",
       "<tr>\n",
       "<td style=\"vertical-align: top; border: 0px solid white\">\n",
       "<h3>Client</h3>\n",
       "<ul>\n",
       "  <li><b>Scheduler: </b>inproc://192.168.42.173/27087/1\n",
       "  <li><b>Dashboard: </b><a href='http://localhost:8787/status' target='_blank'>http://localhost:8787/status</a>\n",
       "</ul>\n",
       "</td>\n",
       "<td style=\"vertical-align: top; border: 0px solid white\">\n",
       "<h3>Cluster</h3>\n",
       "<ul>\n",
       "  <li><b>Workers: </b>1</li>\n",
       "  <li><b>Cores: </b>4</li>\n",
       "  <li><b>Memory: </b>2.00 GB</li>\n",
       "</ul>\n",
       "</td>\n",
       "</tr>\n",
       "</table>"
      ],
      "text/plain": [
       "<Client: scheduler='inproc://192.168.42.173/27087/1' processes=1 cores=4>"
      ]
     },
     "execution_count": 3,
     "metadata": {},
     "output_type": "execute_result"
    }
   ],
   "source": [
    "from dask.distributed import Client\n",
    "client = Client(n_workers=1, threads_per_worker=4, processes=False, memory_limit='2GB')\n",
    "client"
   ]
  },
  {
   "cell_type": "markdown",
   "metadata": {},
   "source": [
    "The Dask Client will provide a dashboard which is useful to gain insight on the computation. The dashboard link can be seen above"
   ]
  },
  {
   "cell_type": "markdown",
   "metadata": {},
   "source": [
    "It is important to remember that, while Dask dataframe is very similar to Pandas dataframe, some differences do exist. Most Dask user interfaces are lazy, meaning that they don’t evaluate until you explicitly ask for a result using the compute method."
   ]
  },
  {
   "cell_type": "markdown",
   "metadata": {},
   "source": [
    "***"
   ]
  },
  {
   "cell_type": "markdown",
   "metadata": {},
   "source": [
    "##### Exploratory Data Analysis"
   ]
  },
  {
   "cell_type": "code",
   "execution_count": 4,
   "metadata": {},
   "outputs": [
    {
     "data": {
      "text/html": [
       "<div>\n",
       "<style scoped>\n",
       "    .dataframe tbody tr th:only-of-type {\n",
       "        vertical-align: middle;\n",
       "    }\n",
       "\n",
       "    .dataframe tbody tr th {\n",
       "        vertical-align: top;\n",
       "    }\n",
       "\n",
       "    .dataframe thead th {\n",
       "        text-align: right;\n",
       "    }\n",
       "</style>\n",
       "<table border=\"1\" class=\"dataframe\">\n",
       "  <thead>\n",
       "    <tr style=\"text-align: right;\">\n",
       "      <th></th>\n",
       "      <th>year</th>\n",
       "      <th>state</th>\n",
       "      <th>state_po</th>\n",
       "      <th>county</th>\n",
       "      <th>FIPS</th>\n",
       "      <th>office</th>\n",
       "      <th>candidate</th>\n",
       "      <th>party</th>\n",
       "      <th>candidatevotes</th>\n",
       "      <th>totalvotes</th>\n",
       "      <th>version</th>\n",
       "    </tr>\n",
       "  </thead>\n",
       "  <tbody>\n",
       "    <tr>\n",
       "      <th>0</th>\n",
       "      <td>2016.0</td>\n",
       "      <td>Alabama</td>\n",
       "      <td>AL</td>\n",
       "      <td>Autauga</td>\n",
       "      <td>1001.0</td>\n",
       "      <td>President</td>\n",
       "      <td>Hillary Clinton</td>\n",
       "      <td>democrat</td>\n",
       "      <td>5936.0</td>\n",
       "      <td>24973.0</td>\n",
       "      <td>20190722.0</td>\n",
       "    </tr>\n",
       "    <tr>\n",
       "      <th>1</th>\n",
       "      <td>2016.0</td>\n",
       "      <td>Alabama</td>\n",
       "      <td>AL</td>\n",
       "      <td>Autauga</td>\n",
       "      <td>1001.0</td>\n",
       "      <td>President</td>\n",
       "      <td>Donald Trump</td>\n",
       "      <td>republican</td>\n",
       "      <td>18172.0</td>\n",
       "      <td>24973.0</td>\n",
       "      <td>20190722.0</td>\n",
       "    </tr>\n",
       "    <tr>\n",
       "      <th>2</th>\n",
       "      <td>2016.0</td>\n",
       "      <td>Alabama</td>\n",
       "      <td>AL</td>\n",
       "      <td>Autauga</td>\n",
       "      <td>1001.0</td>\n",
       "      <td>President</td>\n",
       "      <td>Other</td>\n",
       "      <td>NaN</td>\n",
       "      <td>865.0</td>\n",
       "      <td>24973.0</td>\n",
       "      <td>20190722.0</td>\n",
       "    </tr>\n",
       "    <tr>\n",
       "      <th>3</th>\n",
       "      <td>2016.0</td>\n",
       "      <td>Alabama</td>\n",
       "      <td>AL</td>\n",
       "      <td>Baldwin</td>\n",
       "      <td>1003.0</td>\n",
       "      <td>President</td>\n",
       "      <td>Hillary Clinton</td>\n",
       "      <td>democrat</td>\n",
       "      <td>18458.0</td>\n",
       "      <td>95215.0</td>\n",
       "      <td>20190722.0</td>\n",
       "    </tr>\n",
       "    <tr>\n",
       "      <th>4</th>\n",
       "      <td>2016.0</td>\n",
       "      <td>Alabama</td>\n",
       "      <td>AL</td>\n",
       "      <td>Baldwin</td>\n",
       "      <td>1003.0</td>\n",
       "      <td>President</td>\n",
       "      <td>Donald Trump</td>\n",
       "      <td>republican</td>\n",
       "      <td>72883.0</td>\n",
       "      <td>95215.0</td>\n",
       "      <td>20190722.0</td>\n",
       "    </tr>\n",
       "  </tbody>\n",
       "</table>\n",
       "</div>"
      ],
      "text/plain": [
       "     year    state state_po   county    FIPS     office        candidate  \\\n",
       "0  2016.0  Alabama       AL  Autauga  1001.0  President  Hillary Clinton   \n",
       "1  2016.0  Alabama       AL  Autauga  1001.0  President     Donald Trump   \n",
       "2  2016.0  Alabama       AL  Autauga  1001.0  President            Other   \n",
       "3  2016.0  Alabama       AL  Baldwin  1003.0  President  Hillary Clinton   \n",
       "4  2016.0  Alabama       AL  Baldwin  1003.0  President     Donald Trump   \n",
       "\n",
       "        party  candidatevotes  totalvotes     version  \n",
       "0    democrat          5936.0     24973.0  20190722.0  \n",
       "1  republican         18172.0     24973.0  20190722.0  \n",
       "2         NaN           865.0     24973.0  20190722.0  \n",
       "3    democrat         18458.0     95215.0  20190722.0  \n",
       "4  republican         72883.0     95215.0  20190722.0  "
      ]
     },
     "execution_count": 4,
     "metadata": {},
     "output_type": "execute_result"
    }
   ],
   "source": [
    "### Getting an overview of the data\n",
    "dask_df.head()"
   ]
  },
  {
   "cell_type": "markdown",
   "metadata": {},
   "source": [
    "## Handle missing data "
   ]
  },
  {
   "cell_type": "code",
   "execution_count": 5,
   "metadata": {},
   "outputs": [
    {
     "data": {
      "text/plain": [
       "year                 0\n",
       "state                0\n",
       "state_po            12\n",
       "county               0\n",
       "FIPS                12\n",
       "office               0\n",
       "candidate            0\n",
       "party             3158\n",
       "candidatevotes       6\n",
       "totalvotes           0\n",
       "version              0\n",
       "dtype: int64"
      ]
     },
     "execution_count": 5,
     "metadata": {},
     "output_type": "execute_result"
    }
   ],
   "source": [
    "dask_df.isnull().sum().compute()"
   ]
  },
  {
   "cell_type": "markdown",
   "metadata": {},
   "source": [
    "The election data includes a records that are missing data in the **state_po,FIPS,party** field. This missing data is referred to as null values. We have to ways to work with features with missing values after proper identification.\n",
    "- Fill them with a value\n",
    "- Remove that instance in the datasets"
   ]
  },
  {
   "cell_type": "markdown",
   "metadata": {},
   "source": [
    "#### Lets investigate the features with missing values more by running queries on those features."
   ]
  },
  {
   "cell_type": "code",
   "execution_count": 6,
   "metadata": {},
   "outputs": [
    {
     "data": {
      "text/html": [
       "<div>\n",
       "<style scoped>\n",
       "    .dataframe tbody tr th:only-of-type {\n",
       "        vertical-align: middle;\n",
       "    }\n",
       "\n",
       "    .dataframe tbody tr th {\n",
       "        vertical-align: top;\n",
       "    }\n",
       "\n",
       "    .dataframe thead th {\n",
       "        text-align: right;\n",
       "    }\n",
       "</style>\n",
       "<table border=\"1\" class=\"dataframe\">\n",
       "  <thead>\n",
       "    <tr style=\"text-align: right;\">\n",
       "      <th></th>\n",
       "      <th>year</th>\n",
       "      <th>state</th>\n",
       "      <th>state_po</th>\n",
       "      <th>county</th>\n",
       "      <th>FIPS</th>\n",
       "      <th>office</th>\n",
       "      <th>candidate</th>\n",
       "      <th>party</th>\n",
       "      <th>candidatevotes</th>\n",
       "      <th>totalvotes</th>\n",
       "      <th>version</th>\n",
       "    </tr>\n",
       "  </thead>\n",
       "  <tbody>\n",
       "    <tr>\n",
       "      <th>9462</th>\n",
       "      <td>2016.0</td>\n",
       "      <td>Connecticut</td>\n",
       "      <td>NaN</td>\n",
       "      <td>Statewide writein</td>\n",
       "      <td>NaN</td>\n",
       "      <td>President</td>\n",
       "      <td>Hillary Clinton</td>\n",
       "      <td>democrat</td>\n",
       "      <td>NaN</td>\n",
       "      <td>5056.0</td>\n",
       "      <td>20190722.0</td>\n",
       "    </tr>\n",
       "    <tr>\n",
       "      <th>9463</th>\n",
       "      <td>2016.0</td>\n",
       "      <td>Maine</td>\n",
       "      <td>NaN</td>\n",
       "      <td>Maine UOCAVA</td>\n",
       "      <td>NaN</td>\n",
       "      <td>President</td>\n",
       "      <td>Hillary Clinton</td>\n",
       "      <td>democrat</td>\n",
       "      <td>3017.0</td>\n",
       "      <td>5056.0</td>\n",
       "      <td>20190722.0</td>\n",
       "    </tr>\n",
       "    <tr>\n",
       "      <th>9464</th>\n",
       "      <td>2016.0</td>\n",
       "      <td>Alaska</td>\n",
       "      <td>NaN</td>\n",
       "      <td>District 99</td>\n",
       "      <td>NaN</td>\n",
       "      <td>President</td>\n",
       "      <td>Hillary Clinton</td>\n",
       "      <td>democrat</td>\n",
       "      <td>274.0</td>\n",
       "      <td>5056.0</td>\n",
       "      <td>20190722.0</td>\n",
       "    </tr>\n",
       "    <tr>\n",
       "      <th>9465</th>\n",
       "      <td>2016.0</td>\n",
       "      <td>Rhode Island</td>\n",
       "      <td>NaN</td>\n",
       "      <td>Federal Precinct</td>\n",
       "      <td>NaN</td>\n",
       "      <td>President</td>\n",
       "      <td>Hillary Clinton</td>\n",
       "      <td>democrat</td>\n",
       "      <td>637.0</td>\n",
       "      <td>5056.0</td>\n",
       "      <td>20190722.0</td>\n",
       "    </tr>\n",
       "    <tr>\n",
       "      <th>9466</th>\n",
       "      <td>2016.0</td>\n",
       "      <td>Connecticut</td>\n",
       "      <td>NaN</td>\n",
       "      <td>Statewide writein</td>\n",
       "      <td>NaN</td>\n",
       "      <td>President</td>\n",
       "      <td>Donald Trump</td>\n",
       "      <td>republican</td>\n",
       "      <td>NaN</td>\n",
       "      <td>5056.0</td>\n",
       "      <td>20190722.0</td>\n",
       "    </tr>\n",
       "    <tr>\n",
       "      <th>9467</th>\n",
       "      <td>2016.0</td>\n",
       "      <td>Maine</td>\n",
       "      <td>NaN</td>\n",
       "      <td>Maine UOCAVA</td>\n",
       "      <td>NaN</td>\n",
       "      <td>President</td>\n",
       "      <td>Donald Trump</td>\n",
       "      <td>republican</td>\n",
       "      <td>648.0</td>\n",
       "      <td>5056.0</td>\n",
       "      <td>20190722.0</td>\n",
       "    </tr>\n",
       "    <tr>\n",
       "      <th>9468</th>\n",
       "      <td>2016.0</td>\n",
       "      <td>Alaska</td>\n",
       "      <td>NaN</td>\n",
       "      <td>District 99</td>\n",
       "      <td>NaN</td>\n",
       "      <td>President</td>\n",
       "      <td>Donald Trump</td>\n",
       "      <td>republican</td>\n",
       "      <td>40.0</td>\n",
       "      <td>5056.0</td>\n",
       "      <td>20190722.0</td>\n",
       "    </tr>\n",
       "    <tr>\n",
       "      <th>9469</th>\n",
       "      <td>2016.0</td>\n",
       "      <td>Rhode Island</td>\n",
       "      <td>NaN</td>\n",
       "      <td>Federal Precinct</td>\n",
       "      <td>NaN</td>\n",
       "      <td>President</td>\n",
       "      <td>Donald Trump</td>\n",
       "      <td>republican</td>\n",
       "      <td>53.0</td>\n",
       "      <td>5056.0</td>\n",
       "      <td>20190722.0</td>\n",
       "    </tr>\n",
       "    <tr>\n",
       "      <th>9470</th>\n",
       "      <td>2016.0</td>\n",
       "      <td>Connecticut</td>\n",
       "      <td>NaN</td>\n",
       "      <td>Statewide writein</td>\n",
       "      <td>NaN</td>\n",
       "      <td>President</td>\n",
       "      <td>Other</td>\n",
       "      <td>NaN</td>\n",
       "      <td>NaN</td>\n",
       "      <td>5056.0</td>\n",
       "      <td>20190722.0</td>\n",
       "    </tr>\n",
       "    <tr>\n",
       "      <th>9471</th>\n",
       "      <td>2016.0</td>\n",
       "      <td>Maine</td>\n",
       "      <td>NaN</td>\n",
       "      <td>Maine UOCAVA</td>\n",
       "      <td>NaN</td>\n",
       "      <td>President</td>\n",
       "      <td>Other</td>\n",
       "      <td>NaN</td>\n",
       "      <td>321.0</td>\n",
       "      <td>5056.0</td>\n",
       "      <td>20190722.0</td>\n",
       "    </tr>\n",
       "    <tr>\n",
       "      <th>9472</th>\n",
       "      <td>2016.0</td>\n",
       "      <td>Alaska</td>\n",
       "      <td>NaN</td>\n",
       "      <td>District 99</td>\n",
       "      <td>NaN</td>\n",
       "      <td>President</td>\n",
       "      <td>Other</td>\n",
       "      <td>NaN</td>\n",
       "      <td>28.0</td>\n",
       "      <td>5056.0</td>\n",
       "      <td>20190722.0</td>\n",
       "    </tr>\n",
       "    <tr>\n",
       "      <th>9473</th>\n",
       "      <td>2016.0</td>\n",
       "      <td>Rhode Island</td>\n",
       "      <td>NaN</td>\n",
       "      <td>Federal Precinct</td>\n",
       "      <td>NaN</td>\n",
       "      <td>President</td>\n",
       "      <td>Other</td>\n",
       "      <td>NaN</td>\n",
       "      <td>38.0</td>\n",
       "      <td>5056.0</td>\n",
       "      <td>20190722.0</td>\n",
       "    </tr>\n",
       "  </tbody>\n",
       "</table>\n",
       "</div>"
      ],
      "text/plain": [
       "        year         state state_po             county  FIPS     office  \\\n",
       "9462  2016.0   Connecticut      NaN  Statewide writein   NaN  President   \n",
       "9463  2016.0         Maine      NaN       Maine UOCAVA   NaN  President   \n",
       "9464  2016.0        Alaska      NaN        District 99   NaN  President   \n",
       "9465  2016.0  Rhode Island      NaN   Federal Precinct   NaN  President   \n",
       "9466  2016.0   Connecticut      NaN  Statewide writein   NaN  President   \n",
       "9467  2016.0         Maine      NaN       Maine UOCAVA   NaN  President   \n",
       "9468  2016.0        Alaska      NaN        District 99   NaN  President   \n",
       "9469  2016.0  Rhode Island      NaN   Federal Precinct   NaN  President   \n",
       "9470  2016.0   Connecticut      NaN  Statewide writein   NaN  President   \n",
       "9471  2016.0         Maine      NaN       Maine UOCAVA   NaN  President   \n",
       "9472  2016.0        Alaska      NaN        District 99   NaN  President   \n",
       "9473  2016.0  Rhode Island      NaN   Federal Precinct   NaN  President   \n",
       "\n",
       "            candidate       party  candidatevotes  totalvotes     version  \n",
       "9462  Hillary Clinton    democrat             NaN      5056.0  20190722.0  \n",
       "9463  Hillary Clinton    democrat          3017.0      5056.0  20190722.0  \n",
       "9464  Hillary Clinton    democrat           274.0      5056.0  20190722.0  \n",
       "9465  Hillary Clinton    democrat           637.0      5056.0  20190722.0  \n",
       "9466     Donald Trump  republican             NaN      5056.0  20190722.0  \n",
       "9467     Donald Trump  republican           648.0      5056.0  20190722.0  \n",
       "9468     Donald Trump  republican            40.0      5056.0  20190722.0  \n",
       "9469     Donald Trump  republican            53.0      5056.0  20190722.0  \n",
       "9470            Other         NaN             NaN      5056.0  20190722.0  \n",
       "9471            Other         NaN           321.0      5056.0  20190722.0  \n",
       "9472            Other         NaN            28.0      5056.0  20190722.0  \n",
       "9473            Other         NaN            38.0      5056.0  20190722.0  "
      ]
     },
     "execution_count": 6,
     "metadata": {},
     "output_type": "execute_result"
    }
   ],
   "source": [
    "missing_fips_state_po_query =dask_df.query('(FIPS == \"NaN\") | (state_po ==\"NaN\") ').compute()\n",
    "missing_fips_state_po_query"
   ]
  },
  {
   "cell_type": "markdown",
   "metadata": {},
   "source": [
    "since the 'state_po' features is categorical, lets replace the missing values with the most occuring (mode)"
   ]
  },
  {
   "cell_type": "code",
   "execution_count": 7,
   "metadata": {},
   "outputs": [
    {
     "data": {
      "text/plain": [
       "TX    762\n",
       "GA    477\n",
       "VA    402\n",
       "KY    360\n",
       "MO    348\n",
       "Name: state_po, dtype: int64"
      ]
     },
     "execution_count": 7,
     "metadata": {},
     "output_type": "execute_result"
    }
   ],
   "source": [
    "value_counts = dask_df[\"state_po\"].value_counts().compute()\n",
    "value_counts = value_counts[:5]\n",
    "value_counts"
   ]
  },
  {
   "cell_type": "markdown",
   "metadata": {},
   "source": [
    "The most occuring value of the 'state_po' feature is 'TX'"
   ]
  },
  {
   "cell_type": "code",
   "execution_count": 8,
   "metadata": {},
   "outputs": [],
   "source": [
    "# Filling the missing values with the mode\n",
    "dask_df[\"state_po\"] = dask_df[\"state_po\"].fillna('TX')"
   ]
  },
  {
   "cell_type": "markdown",
   "metadata": {},
   "source": [
    "The 'FIPS' feature is numeric, so we would fill it with the mean value"
   ]
  },
  {
   "cell_type": "code",
   "execution_count": 9,
   "metadata": {},
   "outputs": [],
   "source": [
    "# Filling the missing values with the mean\n",
    "dask_df[\"FIPS\"] = dask_df[\"FIPS\"].fillna(dask_df[\"FIPS\"].mean().compute())"
   ]
  },
  {
   "cell_type": "code",
   "execution_count": 10,
   "metadata": {},
   "outputs": [
    {
     "data": {
      "text/plain": [
       "year                 0\n",
       "state                0\n",
       "state_po             0\n",
       "county               0\n",
       "FIPS                 0\n",
       "office               0\n",
       "candidate            0\n",
       "party             3158\n",
       "candidatevotes       6\n",
       "totalvotes           0\n",
       "version              0\n",
       "dtype: int64"
      ]
     },
     "execution_count": 10,
     "metadata": {},
     "output_type": "execute_result"
    }
   ],
   "source": [
    "dask_df.isnull().sum().compute()"
   ]
  },
  {
   "cell_type": "markdown",
   "metadata": {},
   "source": [
    "Leaving only the 'party' feature to have missing values, lets explore what unique values are in it to guide us in the way to fill it."
   ]
  },
  {
   "cell_type": "code",
   "execution_count": 11,
   "metadata": {},
   "outputs": [
    {
     "data": {
      "text/plain": [
       "0      democrat\n",
       "1    republican\n",
       "2           NaN\n",
       "Name: party, dtype: object"
      ]
     },
     "execution_count": 11,
     "metadata": {},
     "output_type": "execute_result"
    }
   ],
   "source": [
    "dask_df['party'].unique().compute()"
   ]
  },
  {
   "cell_type": "markdown",
   "metadata": {},
   "source": [
    "It wouldn't be ideal to use the mode as a strategy to fill missing values as this will be highly baised on the datasets since it has a collosal amount of missing values. So here we will replace the missing values with 'not recorded'"
   ]
  },
  {
   "cell_type": "code",
   "execution_count": 12,
   "metadata": {},
   "outputs": [],
   "source": [
    "# Filling the missing values with the mode\n",
    "dask_df[\"party\"] = dask_df[\"party\"].fillna('not recorded')"
   ]
  },
  {
   "cell_type": "code",
   "execution_count": 13,
   "metadata": {},
   "outputs": [
    {
     "data": {
      "text/plain": [
       "year              0\n",
       "state             0\n",
       "state_po          0\n",
       "county            0\n",
       "FIPS              0\n",
       "office            0\n",
       "candidate         0\n",
       "party             0\n",
       "candidatevotes    6\n",
       "totalvotes        0\n",
       "version           0\n",
       "dtype: int64"
      ]
     },
     "execution_count": 13,
     "metadata": {},
     "output_type": "execute_result"
    }
   ],
   "source": [
    "dask_df.isnull().sum().compute()"
   ]
  },
  {
   "cell_type": "markdown",
   "metadata": {},
   "source": [
    "***"
   ]
  },
  {
   "cell_type": "markdown",
   "metadata": {},
   "source": [
    "## Explore and handle data types"
   ]
  },
  {
   "cell_type": "markdown",
   "metadata": {},
   "source": [
    "In reviewing your data, you notice that the FIPS field is considered a numeric field instead of a string. As a result, leading zeroes in the FIPS values have been removed. The resulting FIPS values only have four characters instead of five. You will determine how many records are missing leading zeroes and add, or append, the missing zero.\n",
    "![fix_truncated_zeroes](img/trunc_zeroes.gif \"Fix Truncated Zeroes\")"
   ]
  },
  {
   "cell_type": "markdown",
   "metadata": {},
   "source": []
  }
 ],
 "metadata": {
  "kernelspec": {
   "display_name": "Python 3",
   "language": "python",
   "name": "python3"
  },
  "language_info": {
   "codemirror_mode": {
    "name": "ipython",
    "version": 3
   },
   "file_extension": ".py",
   "mimetype": "text/x-python",
   "name": "python",
   "nbconvert_exporter": "python",
   "pygments_lexer": "ipython3",
   "version": "3.7.3"
  }
 },
 "nbformat": 4,
 "nbformat_minor": 4
}
