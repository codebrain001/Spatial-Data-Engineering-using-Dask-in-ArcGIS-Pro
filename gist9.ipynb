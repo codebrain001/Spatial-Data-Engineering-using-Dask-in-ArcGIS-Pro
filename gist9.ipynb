{
 "cells": [
  {
   "cell_type": "markdown",
   "metadata": {},
   "source": [
    "##### Define the ArcGIS Pro project, database, and existing geoenabled data"
   ]
  },
  {
   "cell_type": "code",
   "execution_count": 27,
   "metadata": {},
   "outputs": [],
   "source": [
    "# Create variables that represent the ArcGIS Pro project and map\n",
    "aprx = arcpy.mp.ArcGISProject(\"CURRENT\")\n",
    "mp = aprx.listMaps('Data Engineering')[0]\n",
    "\n",
    "# Create a variable that represents the default file geodatabase\n",
    "fgdb = r\"Data Engineering and Visualization.gdb\"\n",
    "aprx.defaultGeodatabase = fgdb\n",
    "arcpy.env.workspace = fgdb"
   ]
  },
  {
   "cell_type": "markdown",
   "metadata": {},
   "source": [
    "There are various resources that you can use to find geoenabled data. [ArcGIS Living Atlas of the World](https://livingatlas.arcgis.com) is an authoritative source provided by Esri. Each record in your election data represents information for a county, so you will use a Living Atlas dataset that represents county geometry. This dataset has been downloaded and added to your project."
   ]
  },
  {
   "cell_type": "code",
   "execution_count": 28,
   "metadata": {},
   "outputs": [],
   "source": [
    "# Create a variable that represents the county geometry dataset\n",
    "counties_fc_name = \"Counties_2016_VotingAgePopulation\"\n",
    "counties_fc = os.path.join(fgdb, counties_fc_name)"
   ]
  },
  {
   "cell_type": "markdown",
   "metadata": {},
   "source": [
    "**Note: Executing the following cell may take a few minutes.**"
   ]
  },
  {
   "cell_type": "code",
   "execution_count": 29,
   "metadata": {},
   "outputs": [],
   "source": [
    "# Load the dataset into a spatially-enabled dataframe\n",
    "counties_df = pd.DataFrame.spatial.from_featureclass(counties_fc)\n",
    "#counties_df = dd.from_pandas(counties_df,npartitions=1)"
   ]
  },
  {
   "cell_type": "markdown",
   "metadata": {},
   "source": [
    "##### The county geometry dataset includes various attributes. You will simplify the dataframe to only include the attributes that you need. The Total_cvap_est attribute represents the total population in each county that are of voting age for the year 2016."
   ]
  },
  {
   "cell_type": "code",
   "execution_count": 30,
   "metadata": {},
   "outputs": [
    {
     "data": {
      "text/html": [
       "<div>\n",
       "<style scoped>\n",
       "    .dataframe tbody tr th:only-of-type {\n",
       "        vertical-align: middle;\n",
       "    }\n",
       "\n",
       "    .dataframe tbody tr th {\n",
       "        vertical-align: top;\n",
       "    }\n",
       "\n",
       "    .dataframe thead th {\n",
       "        text-align: right;\n",
       "    }\n",
       "</style>\n",
       "<table border=\"1\" class=\"dataframe\">\n",
       "  <thead>\n",
       "    <tr style=\"text-align: right;\">\n",
       "      <th></th>\n",
       "      <th>OBJECTID</th>\n",
       "      <th>GEOID</th>\n",
       "      <th>GEONAME</th>\n",
       "      <th>Total_cvap_est</th>\n",
       "      <th>SHAPE</th>\n",
       "      <th>Shape__Area</th>\n",
       "      <th>Shape__Length</th>\n",
       "    </tr>\n",
       "  </thead>\n",
       "  <tbody>\n",
       "    <tr>\n",
       "      <th>0</th>\n",
       "      <td>1</td>\n",
       "      <td>01001</td>\n",
       "      <td>Autauga County, Alabama</td>\n",
       "      <td>40690</td>\n",
       "      <td>{'rings': [[[-9619465, 3856529.0001000017], [-...</td>\n",
       "      <td>2.208654e+09</td>\n",
       "      <td>2.498864e+05</td>\n",
       "    </tr>\n",
       "    <tr>\n",
       "      <th>1</th>\n",
       "      <td>2</td>\n",
       "      <td>01003</td>\n",
       "      <td>Baldwin County, Alabama</td>\n",
       "      <td>151770</td>\n",
       "      <td>{'rings': [[[-9746859, 3539643.0001000017], [-...</td>\n",
       "      <td>5.671048e+09</td>\n",
       "      <td>1.655940e+06</td>\n",
       "    </tr>\n",
       "    <tr>\n",
       "      <th>2</th>\n",
       "      <td>3</td>\n",
       "      <td>01005</td>\n",
       "      <td>Barbour County, Alabama</td>\n",
       "      <td>20375</td>\n",
       "      <td>{'rings': [[[-9468394, 3771591.0001000017], [-...</td>\n",
       "      <td>3.257902e+09</td>\n",
       "      <td>3.208964e+05</td>\n",
       "    </tr>\n",
       "    <tr>\n",
       "      <th>3</th>\n",
       "      <td>4</td>\n",
       "      <td>01007</td>\n",
       "      <td>Bibb County, Alabama</td>\n",
       "      <td>17590</td>\n",
       "      <td>{'rings': [[[-9692114, 3928124.0001000017], [-...</td>\n",
       "      <td>2.311999e+09</td>\n",
       "      <td>2.279184e+05</td>\n",
       "    </tr>\n",
       "    <tr>\n",
       "      <th>4</th>\n",
       "      <td>5</td>\n",
       "      <td>01009</td>\n",
       "      <td>Blount County, Alabama</td>\n",
       "      <td>42430</td>\n",
       "      <td>{'rings': [[[-9623907, 4063676.0001000017], [-...</td>\n",
       "      <td>2.456909e+09</td>\n",
       "      <td>2.926429e+05</td>\n",
       "    </tr>\n",
       "  </tbody>\n",
       "</table>\n",
       "</div>"
      ],
      "text/plain": [
       "   OBJECTID  GEOID  ...   Shape__Area  Shape__Length\n",
       "0         1  01001  ...  2.208654e+09   2.498864e+05\n",
       "1         2  01003  ...  5.671048e+09   1.655940e+06\n",
       "2         3  01005  ...  3.257902e+09   3.208964e+05\n",
       "3         4  01007  ...  2.311999e+09   2.279184e+05\n",
       "4         5  01009  ...  2.456909e+09   2.926429e+05\n",
       "\n",
       "[5 rows x 7 columns]"
      ]
     },
     "execution_count": 30,
     "metadata": {},
     "output_type": "execute_result"
    }
   ],
   "source": [
    "# Modify the dataframe to only include the attributes that are needed\n",
    "counties_df = counties_df[['OBJECTID', 'GEOID', 'GEONAME',\n",
    "                           'Total_cvap_est',\n",
    "                           'SHAPE', 'Shape__Area', 'Shape__Length']]\n",
    "\n",
    "counties_df.head()"
   ]
  }
 ],
 "metadata": {
  "kernelspec": {
   "display_name": "Python 3",
   "language": "python",
   "name": "python3"
  },
  "language_info": {
   "codemirror_mode": {
    "name": "ipython",
    "version": 3
   },
   "file_extension": ".py",
   "mimetype": "text/x-python",
   "name": "python",
   "nbconvert_exporter": "python",
   "pygments_lexer": "ipython3",
   "version": "3.7.3"
  }
 },
 "nbformat": 4,
 "nbformat_minor": 4
}
