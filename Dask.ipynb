{
 "cells": [
  {
   "cell_type": "markdown",
   "metadata": {},
   "source": [
    "# Data engineering with Dask"
   ]
  },
  {
   "cell_type": "markdown",
   "metadata": {},
   "source": [
    "This notebook describes the process to download and prepare United States presidential election data. You will address missing values, reformat data types, and restructure the format of a table."
   ]
  },
  {
   "cell_type": "markdown",
   "metadata": {},
   "source": [
    "***"
   ]
  },
  {
   "cell_type": "markdown",
   "metadata": {},
   "source": [
    "## Load and prepare data"
   ]
  },
  {
   "cell_type": "markdown",
   "metadata": {},
   "source": [
    "To download and prepare the election data, you will use ArcPy, the ArcGIS API for Python, matplotlib for visualization and a Dask dataframe. First, you will import these modules to use them. Then, you will create a variable for the United States county election data and use this variable to read the data into a Dask dataframe."
   ]
  },
  {
   "cell_type": "markdown",
   "metadata": {},
   "source": [
    "##### Import needed modules"
   ]
  },
  {
   "cell_type": "code",
   "execution_count": 1,
   "metadata": {},
   "outputs": [
    {
     "name": "stderr",
     "output_type": "stream",
     "text": [
      "/home/qwerty/anaconda3/lib/python3.7/site-packages/arcgis/features/_data/geodataset/utils.py:15: FutureWarning: The pandas.datetime class is deprecated and will be removed from pandas in a future version. Import from datetime module instead.\n",
      "  pd.datetime,\n",
      "/home/qwerty/anaconda3/lib/python3.7/site-packages/dask/dataframe/utils.py:15: FutureWarning: pandas.util.testing is deprecated. Use the functions in the public API at pandas.testing instead.\n",
      "  import pandas.util.testing as tm\n"
     ]
    }
   ],
   "source": [
    "import arcgis\n",
    "import dask.dataframe as dd\n",
    "import os\n",
    "#import arcpy"
   ]
  },
  {
   "cell_type": "markdown",
   "metadata": {},
   "source": [
    "##### Read data into Python"
   ]
  },
  {
   "cell_type": "code",
   "execution_count": 2,
   "metadata": {},
   "outputs": [],
   "source": [
    "dask_df = dd.read_csv(\"countypres2016.csv\", assume_missing=True)"
   ]
  },
  {
   "cell_type": "markdown",
   "metadata": {},
   "source": [
    "The is usually a dtype inference failure as Dask in attempt to aid memory management takes all numeric values as 'Íntegers (int64)', this can be fixed by manually adding the dtype when reading the data or provide 'assume_missing=True' to intepret all unspecified integer columns as floats."
   ]
  },
  {
   "cell_type": "code",
   "execution_count": 3,
   "metadata": {},
   "outputs": [
    {
     "name": "stderr",
     "output_type": "stream",
     "text": [
      "/home/qwerty/anaconda3/lib/python3.7/site-packages/distributed/utils.py:139: RuntimeWarning: Couldn't detect a suitable IP address for reaching '8.8.8.8', defaulting to '127.0.0.1': [Errno 101] Network is unreachable\n",
      "  RuntimeWarning,\n"
     ]
    },
    {
     "data": {
      "text/html": [
       "<table style=\"border: 2px solid white;\">\n",
       "<tr>\n",
       "<td style=\"vertical-align: top; border: 0px solid white\">\n",
       "<h3>Client</h3>\n",
       "<ul>\n",
       "  <li><b>Scheduler: </b>inproc://127.0.0.1/22980/1\n",
       "  <li><b>Dashboard: </b><a href='http://localhost:8787/status' target='_blank'>http://localhost:8787/status</a>\n",
       "</ul>\n",
       "</td>\n",
       "<td style=\"vertical-align: top; border: 0px solid white\">\n",
       "<h3>Cluster</h3>\n",
       "<ul>\n",
       "  <li><b>Workers: </b>1</li>\n",
       "  <li><b>Cores: </b>4</li>\n",
       "  <li><b>Memory: </b>2.00 GB</li>\n",
       "</ul>\n",
       "</td>\n",
       "</tr>\n",
       "</table>"
      ],
      "text/plain": [
       "<Client: scheduler='inproc://127.0.0.1/22980/1' processes=1 cores=4>"
      ]
     },
     "execution_count": 3,
     "metadata": {},
     "output_type": "execute_result"
    }
   ],
   "source": [
    "from dask.distributed import Client\n",
    "client = Client(n_workers=1, threads_per_worker=4, processes=False, memory_limit='2GB')\n",
    "client"
   ]
  },
  {
   "cell_type": "markdown",
   "metadata": {},
   "source": [
    "The Dask Client will provide a dashboard which is useful to gain insight on the computation. The dashboard link can be seen above."
   ]
  },
  {
   "cell_type": "markdown",
   "metadata": {},
   "source": [
    "***"
   ]
  },
  {
   "cell_type": "markdown",
   "metadata": {},
   "source": [
    "## Cleaning the data "
   ]
  },
  {
   "cell_type": "markdown",
   "metadata": {},
   "source": [
    "##### Exploratory Data Analysis"
   ]
  },
  {
   "cell_type": "code",
   "execution_count": 4,
   "metadata": {},
   "outputs": [
    {
     "data": {
      "text/html": [
       "<div>\n",
       "<style scoped>\n",
       "    .dataframe tbody tr th:only-of-type {\n",
       "        vertical-align: middle;\n",
       "    }\n",
       "\n",
       "    .dataframe tbody tr th {\n",
       "        vertical-align: top;\n",
       "    }\n",
       "\n",
       "    .dataframe thead th {\n",
       "        text-align: right;\n",
       "    }\n",
       "</style>\n",
       "<table border=\"1\" class=\"dataframe\">\n",
       "  <thead>\n",
       "    <tr style=\"text-align: right;\">\n",
       "      <th></th>\n",
       "      <th>year</th>\n",
       "      <th>state</th>\n",
       "      <th>state_po</th>\n",
       "      <th>county</th>\n",
       "      <th>FIPS</th>\n",
       "      <th>office</th>\n",
       "      <th>candidate</th>\n",
       "      <th>party</th>\n",
       "      <th>candidatevotes</th>\n",
       "      <th>totalvotes</th>\n",
       "      <th>version</th>\n",
       "    </tr>\n",
       "  </thead>\n",
       "  <tbody>\n",
       "    <tr>\n",
       "      <th>0</th>\n",
       "      <td>2016.0</td>\n",
       "      <td>Alabama</td>\n",
       "      <td>AL</td>\n",
       "      <td>Autauga</td>\n",
       "      <td>1001.0</td>\n",
       "      <td>President</td>\n",
       "      <td>Hillary Clinton</td>\n",
       "      <td>democrat</td>\n",
       "      <td>5936.0</td>\n",
       "      <td>24973.0</td>\n",
       "      <td>20190722.0</td>\n",
       "    </tr>\n",
       "    <tr>\n",
       "      <th>1</th>\n",
       "      <td>2016.0</td>\n",
       "      <td>Alabama</td>\n",
       "      <td>AL</td>\n",
       "      <td>Autauga</td>\n",
       "      <td>1001.0</td>\n",
       "      <td>President</td>\n",
       "      <td>Donald Trump</td>\n",
       "      <td>republican</td>\n",
       "      <td>18172.0</td>\n",
       "      <td>24973.0</td>\n",
       "      <td>20190722.0</td>\n",
       "    </tr>\n",
       "    <tr>\n",
       "      <th>2</th>\n",
       "      <td>2016.0</td>\n",
       "      <td>Alabama</td>\n",
       "      <td>AL</td>\n",
       "      <td>Autauga</td>\n",
       "      <td>1001.0</td>\n",
       "      <td>President</td>\n",
       "      <td>Other</td>\n",
       "      <td>NaN</td>\n",
       "      <td>865.0</td>\n",
       "      <td>24973.0</td>\n",
       "      <td>20190722.0</td>\n",
       "    </tr>\n",
       "    <tr>\n",
       "      <th>3</th>\n",
       "      <td>2016.0</td>\n",
       "      <td>Alabama</td>\n",
       "      <td>AL</td>\n",
       "      <td>Baldwin</td>\n",
       "      <td>1003.0</td>\n",
       "      <td>President</td>\n",
       "      <td>Hillary Clinton</td>\n",
       "      <td>democrat</td>\n",
       "      <td>18458.0</td>\n",
       "      <td>95215.0</td>\n",
       "      <td>20190722.0</td>\n",
       "    </tr>\n",
       "    <tr>\n",
       "      <th>4</th>\n",
       "      <td>2016.0</td>\n",
       "      <td>Alabama</td>\n",
       "      <td>AL</td>\n",
       "      <td>Baldwin</td>\n",
       "      <td>1003.0</td>\n",
       "      <td>President</td>\n",
       "      <td>Donald Trump</td>\n",
       "      <td>republican</td>\n",
       "      <td>72883.0</td>\n",
       "      <td>95215.0</td>\n",
       "      <td>20190722.0</td>\n",
       "    </tr>\n",
       "  </tbody>\n",
       "</table>\n",
       "</div>"
      ],
      "text/plain": [
       "     year    state state_po   county    FIPS     office        candidate  \\\n",
       "0  2016.0  Alabama       AL  Autauga  1001.0  President  Hillary Clinton   \n",
       "1  2016.0  Alabama       AL  Autauga  1001.0  President     Donald Trump   \n",
       "2  2016.0  Alabama       AL  Autauga  1001.0  President            Other   \n",
       "3  2016.0  Alabama       AL  Baldwin  1003.0  President  Hillary Clinton   \n",
       "4  2016.0  Alabama       AL  Baldwin  1003.0  President     Donald Trump   \n",
       "\n",
       "        party  candidatevotes  totalvotes     version  \n",
       "0    democrat          5936.0     24973.0  20190722.0  \n",
       "1  republican         18172.0     24973.0  20190722.0  \n",
       "2         NaN           865.0     24973.0  20190722.0  \n",
       "3    democrat         18458.0     95215.0  20190722.0  \n",
       "4  republican         72883.0     95215.0  20190722.0  "
      ]
     },
     "execution_count": 4,
     "metadata": {},
     "output_type": "execute_result"
    }
   ],
   "source": [
    "### Getting an overview of the data\n",
    "dask_df.head()"
   ]
  },
  {
   "cell_type": "code",
   "execution_count": 5,
   "metadata": {},
   "outputs": [
    {
     "name": "stdout",
     "output_type": "stream",
     "text": [
      "<class 'pandas.core.frame.DataFrame'>\n",
      "RangeIndex: 9474 entries, 0 to 9473\n",
      "Data columns (total 11 columns):\n",
      " #   Column          Non-Null Count  Dtype  \n",
      "---  ------          --------------  -----  \n",
      " 0   year            9474 non-null   float64\n",
      " 1   state           9474 non-null   object \n",
      " 2   state_po        9462 non-null   object \n",
      " 3   county          9474 non-null   object \n",
      " 4   FIPS            9462 non-null   float64\n",
      " 5   office          9474 non-null   object \n",
      " 6   candidate       9474 non-null   object \n",
      " 7   party           6316 non-null   object \n",
      " 8   candidatevotes  9468 non-null   float64\n",
      " 9   totalvotes      9474 non-null   float64\n",
      " 10  version         9474 non-null   float64\n",
      "dtypes: float64(5), object(6)\n",
      "memory usage: 814.3+ KB\n"
     ]
    }
   ],
   "source": [
    "# Getting overview of the the data type (dtype) \n",
    "# of all the features and get an overview of \n",
    "# features with missing values via the 'Non-Null count'\n",
    "dask_df.compute().info()"
   ]
  },
  {
   "cell_type": "markdown",
   "metadata": {},
   "source": [
    "In an attempt to manage memory, Dask takes all the numeric values as float and non-numeric values as objects"
   ]
  },
  {
   "cell_type": "markdown",
   "metadata": {},
   "source": [
    "#### Dropping redundant features"
   ]
  },
  {
   "cell_type": "markdown",
   "metadata": {},
   "source": [
    "From the preview of the dataset above, it can be observed that the 'state_po' is an acronym for the 'state' feature. To make the data cleaner, we have to remove these redundant feature."
   ]
  },
  {
   "cell_type": "code",
   "execution_count": 6,
   "metadata": {},
   "outputs": [],
   "source": [
    "# dask operation\n",
    "dask_df = dask_df.drop('state_po', axis=1)"
   ]
  },
  {
   "cell_type": "code",
   "execution_count": 7,
   "metadata": {},
   "outputs": [
    {
     "data": {
      "text/html": [
       "<div>\n",
       "<style scoped>\n",
       "    .dataframe tbody tr th:only-of-type {\n",
       "        vertical-align: middle;\n",
       "    }\n",
       "\n",
       "    .dataframe tbody tr th {\n",
       "        vertical-align: top;\n",
       "    }\n",
       "\n",
       "    .dataframe thead th {\n",
       "        text-align: right;\n",
       "    }\n",
       "</style>\n",
       "<table border=\"1\" class=\"dataframe\">\n",
       "  <thead>\n",
       "    <tr style=\"text-align: right;\">\n",
       "      <th></th>\n",
       "      <th>year</th>\n",
       "      <th>state</th>\n",
       "      <th>county</th>\n",
       "      <th>FIPS</th>\n",
       "      <th>office</th>\n",
       "      <th>candidate</th>\n",
       "      <th>party</th>\n",
       "      <th>candidatevotes</th>\n",
       "      <th>totalvotes</th>\n",
       "      <th>version</th>\n",
       "    </tr>\n",
       "  </thead>\n",
       "  <tbody>\n",
       "    <tr>\n",
       "      <th>0</th>\n",
       "      <td>2016.0</td>\n",
       "      <td>Alabama</td>\n",
       "      <td>Autauga</td>\n",
       "      <td>1001.0</td>\n",
       "      <td>President</td>\n",
       "      <td>Hillary Clinton</td>\n",
       "      <td>democrat</td>\n",
       "      <td>5936.0</td>\n",
       "      <td>24973.0</td>\n",
       "      <td>20190722.0</td>\n",
       "    </tr>\n",
       "    <tr>\n",
       "      <th>1</th>\n",
       "      <td>2016.0</td>\n",
       "      <td>Alabama</td>\n",
       "      <td>Autauga</td>\n",
       "      <td>1001.0</td>\n",
       "      <td>President</td>\n",
       "      <td>Donald Trump</td>\n",
       "      <td>republican</td>\n",
       "      <td>18172.0</td>\n",
       "      <td>24973.0</td>\n",
       "      <td>20190722.0</td>\n",
       "    </tr>\n",
       "    <tr>\n",
       "      <th>2</th>\n",
       "      <td>2016.0</td>\n",
       "      <td>Alabama</td>\n",
       "      <td>Autauga</td>\n",
       "      <td>1001.0</td>\n",
       "      <td>President</td>\n",
       "      <td>Other</td>\n",
       "      <td>NaN</td>\n",
       "      <td>865.0</td>\n",
       "      <td>24973.0</td>\n",
       "      <td>20190722.0</td>\n",
       "    </tr>\n",
       "    <tr>\n",
       "      <th>3</th>\n",
       "      <td>2016.0</td>\n",
       "      <td>Alabama</td>\n",
       "      <td>Baldwin</td>\n",
       "      <td>1003.0</td>\n",
       "      <td>President</td>\n",
       "      <td>Hillary Clinton</td>\n",
       "      <td>democrat</td>\n",
       "      <td>18458.0</td>\n",
       "      <td>95215.0</td>\n",
       "      <td>20190722.0</td>\n",
       "    </tr>\n",
       "    <tr>\n",
       "      <th>4</th>\n",
       "      <td>2016.0</td>\n",
       "      <td>Alabama</td>\n",
       "      <td>Baldwin</td>\n",
       "      <td>1003.0</td>\n",
       "      <td>President</td>\n",
       "      <td>Donald Trump</td>\n",
       "      <td>republican</td>\n",
       "      <td>72883.0</td>\n",
       "      <td>95215.0</td>\n",
       "      <td>20190722.0</td>\n",
       "    </tr>\n",
       "  </tbody>\n",
       "</table>\n",
       "</div>"
      ],
      "text/plain": [
       "     year    state   county    FIPS     office        candidate       party  \\\n",
       "0  2016.0  Alabama  Autauga  1001.0  President  Hillary Clinton    democrat   \n",
       "1  2016.0  Alabama  Autauga  1001.0  President     Donald Trump  republican   \n",
       "2  2016.0  Alabama  Autauga  1001.0  President            Other         NaN   \n",
       "3  2016.0  Alabama  Baldwin  1003.0  President  Hillary Clinton    democrat   \n",
       "4  2016.0  Alabama  Baldwin  1003.0  President     Donald Trump  republican   \n",
       "\n",
       "   candidatevotes  totalvotes     version  \n",
       "0          5936.0     24973.0  20190722.0  \n",
       "1         18172.0     24973.0  20190722.0  \n",
       "2           865.0     24973.0  20190722.0  \n",
       "3         18458.0     95215.0  20190722.0  \n",
       "4         72883.0     95215.0  20190722.0  "
      ]
     },
     "execution_count": 7,
     "metadata": {},
     "output_type": "execute_result"
    }
   ],
   "source": [
    "dask_df.head()"
   ]
  },
  {
   "cell_type": "markdown",
   "metadata": {},
   "source": [
    "#### Handle missing data "
   ]
  },
  {
   "cell_type": "code",
   "execution_count": 8,
   "metadata": {},
   "outputs": [
    {
     "data": {
      "text/plain": [
       "year                 0\n",
       "state                0\n",
       "county               0\n",
       "FIPS                12\n",
       "office               0\n",
       "candidate            0\n",
       "party             3158\n",
       "candidatevotes       6\n",
       "totalvotes           0\n",
       "version              0\n",
       "dtype: int64"
      ]
     },
     "execution_count": 8,
     "metadata": {},
     "output_type": "execute_result"
    }
   ],
   "source": [
    "dask_df.isnull().sum().compute()"
   ]
  },
  {
   "cell_type": "markdown",
   "metadata": {},
   "source": [
    "The election data includes records that are missing data in the **,FIPS,party and candidatevotes** field. This missing data is referred to as null values. We have to ways to work with features with missing values after proper identification.\n",
    "- Fill them with a value\n",
    "- Remove that instance in the datasets"
   ]
  },
  {
   "cell_type": "markdown",
   "metadata": {},
   "source": [
    "##### Lets investigate the features with missing values more by running queries on those features using `dask query method`"
   ]
  },
  {
   "cell_type": "code",
   "execution_count": 9,
   "metadata": {},
   "outputs": [
    {
     "data": {
      "text/html": [
       "<div>\n",
       "<style scoped>\n",
       "    .dataframe tbody tr th:only-of-type {\n",
       "        vertical-align: middle;\n",
       "    }\n",
       "\n",
       "    .dataframe tbody tr th {\n",
       "        vertical-align: top;\n",
       "    }\n",
       "\n",
       "    .dataframe thead th {\n",
       "        text-align: right;\n",
       "    }\n",
       "</style>\n",
       "<table border=\"1\" class=\"dataframe\">\n",
       "  <thead>\n",
       "    <tr style=\"text-align: right;\">\n",
       "      <th></th>\n",
       "      <th>year</th>\n",
       "      <th>state</th>\n",
       "      <th>county</th>\n",
       "      <th>FIPS</th>\n",
       "      <th>office</th>\n",
       "      <th>candidate</th>\n",
       "      <th>party</th>\n",
       "      <th>candidatevotes</th>\n",
       "      <th>totalvotes</th>\n",
       "      <th>version</th>\n",
       "    </tr>\n",
       "  </thead>\n",
       "  <tbody>\n",
       "    <tr>\n",
       "      <th>8781</th>\n",
       "      <td>2016.0</td>\n",
       "      <td>Virginia</td>\n",
       "      <td>Bedford</td>\n",
       "      <td>51515.0</td>\n",
       "      <td>President</td>\n",
       "      <td>Hillary Clinton</td>\n",
       "      <td>democrat</td>\n",
       "      <td>NaN</td>\n",
       "      <td>0.0</td>\n",
       "      <td>20190722.0</td>\n",
       "    </tr>\n",
       "    <tr>\n",
       "      <th>8782</th>\n",
       "      <td>2016.0</td>\n",
       "      <td>Virginia</td>\n",
       "      <td>Bedford</td>\n",
       "      <td>51515.0</td>\n",
       "      <td>President</td>\n",
       "      <td>Donald Trump</td>\n",
       "      <td>republican</td>\n",
       "      <td>NaN</td>\n",
       "      <td>0.0</td>\n",
       "      <td>20190722.0</td>\n",
       "    </tr>\n",
       "    <tr>\n",
       "      <th>8783</th>\n",
       "      <td>2016.0</td>\n",
       "      <td>Virginia</td>\n",
       "      <td>Bedford</td>\n",
       "      <td>51515.0</td>\n",
       "      <td>President</td>\n",
       "      <td>Other</td>\n",
       "      <td>NaN</td>\n",
       "      <td>NaN</td>\n",
       "      <td>0.0</td>\n",
       "      <td>20190722.0</td>\n",
       "    </tr>\n",
       "    <tr>\n",
       "      <th>9462</th>\n",
       "      <td>2016.0</td>\n",
       "      <td>Connecticut</td>\n",
       "      <td>Statewide writein</td>\n",
       "      <td>NaN</td>\n",
       "      <td>President</td>\n",
       "      <td>Hillary Clinton</td>\n",
       "      <td>democrat</td>\n",
       "      <td>NaN</td>\n",
       "      <td>5056.0</td>\n",
       "      <td>20190722.0</td>\n",
       "    </tr>\n",
       "    <tr>\n",
       "      <th>9463</th>\n",
       "      <td>2016.0</td>\n",
       "      <td>Maine</td>\n",
       "      <td>Maine UOCAVA</td>\n",
       "      <td>NaN</td>\n",
       "      <td>President</td>\n",
       "      <td>Hillary Clinton</td>\n",
       "      <td>democrat</td>\n",
       "      <td>3017.0</td>\n",
       "      <td>5056.0</td>\n",
       "      <td>20190722.0</td>\n",
       "    </tr>\n",
       "    <tr>\n",
       "      <th>9464</th>\n",
       "      <td>2016.0</td>\n",
       "      <td>Alaska</td>\n",
       "      <td>District 99</td>\n",
       "      <td>NaN</td>\n",
       "      <td>President</td>\n",
       "      <td>Hillary Clinton</td>\n",
       "      <td>democrat</td>\n",
       "      <td>274.0</td>\n",
       "      <td>5056.0</td>\n",
       "      <td>20190722.0</td>\n",
       "    </tr>\n",
       "    <tr>\n",
       "      <th>9465</th>\n",
       "      <td>2016.0</td>\n",
       "      <td>Rhode Island</td>\n",
       "      <td>Federal Precinct</td>\n",
       "      <td>NaN</td>\n",
       "      <td>President</td>\n",
       "      <td>Hillary Clinton</td>\n",
       "      <td>democrat</td>\n",
       "      <td>637.0</td>\n",
       "      <td>5056.0</td>\n",
       "      <td>20190722.0</td>\n",
       "    </tr>\n",
       "    <tr>\n",
       "      <th>9466</th>\n",
       "      <td>2016.0</td>\n",
       "      <td>Connecticut</td>\n",
       "      <td>Statewide writein</td>\n",
       "      <td>NaN</td>\n",
       "      <td>President</td>\n",
       "      <td>Donald Trump</td>\n",
       "      <td>republican</td>\n",
       "      <td>NaN</td>\n",
       "      <td>5056.0</td>\n",
       "      <td>20190722.0</td>\n",
       "    </tr>\n",
       "    <tr>\n",
       "      <th>9467</th>\n",
       "      <td>2016.0</td>\n",
       "      <td>Maine</td>\n",
       "      <td>Maine UOCAVA</td>\n",
       "      <td>NaN</td>\n",
       "      <td>President</td>\n",
       "      <td>Donald Trump</td>\n",
       "      <td>republican</td>\n",
       "      <td>648.0</td>\n",
       "      <td>5056.0</td>\n",
       "      <td>20190722.0</td>\n",
       "    </tr>\n",
       "    <tr>\n",
       "      <th>9468</th>\n",
       "      <td>2016.0</td>\n",
       "      <td>Alaska</td>\n",
       "      <td>District 99</td>\n",
       "      <td>NaN</td>\n",
       "      <td>President</td>\n",
       "      <td>Donald Trump</td>\n",
       "      <td>republican</td>\n",
       "      <td>40.0</td>\n",
       "      <td>5056.0</td>\n",
       "      <td>20190722.0</td>\n",
       "    </tr>\n",
       "    <tr>\n",
       "      <th>9469</th>\n",
       "      <td>2016.0</td>\n",
       "      <td>Rhode Island</td>\n",
       "      <td>Federal Precinct</td>\n",
       "      <td>NaN</td>\n",
       "      <td>President</td>\n",
       "      <td>Donald Trump</td>\n",
       "      <td>republican</td>\n",
       "      <td>53.0</td>\n",
       "      <td>5056.0</td>\n",
       "      <td>20190722.0</td>\n",
       "    </tr>\n",
       "    <tr>\n",
       "      <th>9470</th>\n",
       "      <td>2016.0</td>\n",
       "      <td>Connecticut</td>\n",
       "      <td>Statewide writein</td>\n",
       "      <td>NaN</td>\n",
       "      <td>President</td>\n",
       "      <td>Other</td>\n",
       "      <td>NaN</td>\n",
       "      <td>NaN</td>\n",
       "      <td>5056.0</td>\n",
       "      <td>20190722.0</td>\n",
       "    </tr>\n",
       "    <tr>\n",
       "      <th>9471</th>\n",
       "      <td>2016.0</td>\n",
       "      <td>Maine</td>\n",
       "      <td>Maine UOCAVA</td>\n",
       "      <td>NaN</td>\n",
       "      <td>President</td>\n",
       "      <td>Other</td>\n",
       "      <td>NaN</td>\n",
       "      <td>321.0</td>\n",
       "      <td>5056.0</td>\n",
       "      <td>20190722.0</td>\n",
       "    </tr>\n",
       "    <tr>\n",
       "      <th>9472</th>\n",
       "      <td>2016.0</td>\n",
       "      <td>Alaska</td>\n",
       "      <td>District 99</td>\n",
       "      <td>NaN</td>\n",
       "      <td>President</td>\n",
       "      <td>Other</td>\n",
       "      <td>NaN</td>\n",
       "      <td>28.0</td>\n",
       "      <td>5056.0</td>\n",
       "      <td>20190722.0</td>\n",
       "    </tr>\n",
       "    <tr>\n",
       "      <th>9473</th>\n",
       "      <td>2016.0</td>\n",
       "      <td>Rhode Island</td>\n",
       "      <td>Federal Precinct</td>\n",
       "      <td>NaN</td>\n",
       "      <td>President</td>\n",
       "      <td>Other</td>\n",
       "      <td>NaN</td>\n",
       "      <td>38.0</td>\n",
       "      <td>5056.0</td>\n",
       "      <td>20190722.0</td>\n",
       "    </tr>\n",
       "  </tbody>\n",
       "</table>\n",
       "</div>"
      ],
      "text/plain": [
       "        year         state             county     FIPS     office  \\\n",
       "8781  2016.0      Virginia            Bedford  51515.0  President   \n",
       "8782  2016.0      Virginia            Bedford  51515.0  President   \n",
       "8783  2016.0      Virginia            Bedford  51515.0  President   \n",
       "9462  2016.0   Connecticut  Statewide writein      NaN  President   \n",
       "9463  2016.0         Maine       Maine UOCAVA      NaN  President   \n",
       "9464  2016.0        Alaska        District 99      NaN  President   \n",
       "9465  2016.0  Rhode Island   Federal Precinct      NaN  President   \n",
       "9466  2016.0   Connecticut  Statewide writein      NaN  President   \n",
       "9467  2016.0         Maine       Maine UOCAVA      NaN  President   \n",
       "9468  2016.0        Alaska        District 99      NaN  President   \n",
       "9469  2016.0  Rhode Island   Federal Precinct      NaN  President   \n",
       "9470  2016.0   Connecticut  Statewide writein      NaN  President   \n",
       "9471  2016.0         Maine       Maine UOCAVA      NaN  President   \n",
       "9472  2016.0        Alaska        District 99      NaN  President   \n",
       "9473  2016.0  Rhode Island   Federal Precinct      NaN  President   \n",
       "\n",
       "            candidate       party  candidatevotes  totalvotes     version  \n",
       "8781  Hillary Clinton    democrat             NaN         0.0  20190722.0  \n",
       "8782     Donald Trump  republican             NaN         0.0  20190722.0  \n",
       "8783            Other         NaN             NaN         0.0  20190722.0  \n",
       "9462  Hillary Clinton    democrat             NaN      5056.0  20190722.0  \n",
       "9463  Hillary Clinton    democrat          3017.0      5056.0  20190722.0  \n",
       "9464  Hillary Clinton    democrat           274.0      5056.0  20190722.0  \n",
       "9465  Hillary Clinton    democrat           637.0      5056.0  20190722.0  \n",
       "9466     Donald Trump  republican             NaN      5056.0  20190722.0  \n",
       "9467     Donald Trump  republican           648.0      5056.0  20190722.0  \n",
       "9468     Donald Trump  republican            40.0      5056.0  20190722.0  \n",
       "9469     Donald Trump  republican            53.0      5056.0  20190722.0  \n",
       "9470            Other         NaN             NaN      5056.0  20190722.0  \n",
       "9471            Other         NaN           321.0      5056.0  20190722.0  \n",
       "9472            Other         NaN            28.0      5056.0  20190722.0  \n",
       "9473            Other         NaN            38.0      5056.0  20190722.0  "
      ]
     },
     "execution_count": 9,
     "metadata": {},
     "output_type": "execute_result"
    }
   ],
   "source": [
    "missing_query = dask_df.query('(FIPS == \"NaN\") | (candidatevotes == \"NaN\") ').compute()\n",
    "missing_query"
   ]
  },
  {
   "cell_type": "markdown",
   "metadata": {},
   "source": [
    "The strategy of handling missing values that we will employ here will be replacing the missing values with a valid and representative value. \n",
    "\n",
    "This can be achieved with the Dask dataframe using the `fillna` method."
   ]
  },
  {
   "cell_type": "markdown",
   "metadata": {},
   "source": [
    "The 'FIPS' and 'candidatevotes' features are both numerical. In this scenario, since the data continous we could use either mean or the median would be a good representative of the central tendency of the features. In this case, we will fill the missing values with the mean of those features."
   ]
  },
  {
   "cell_type": "code",
   "execution_count": 10,
   "metadata": {},
   "outputs": [],
   "source": [
    "# Filling the missing values with the mean\n",
    "dask_df[\"FIPS\"] = dask_df[\"FIPS\"].fillna(dask_df[\"FIPS\"].mean().compute())\n",
    "dask_df[\"candidatevotes\"] = dask_df[\"candidatevotes\"].fillna(dask_df[\"candidatevotes\"].mean().compute())"
   ]
  },
  {
   "cell_type": "code",
   "execution_count": 11,
   "metadata": {},
   "outputs": [
    {
     "data": {
      "text/plain": [
       "year                 0\n",
       "state                0\n",
       "county               0\n",
       "FIPS                 0\n",
       "office               0\n",
       "candidate            0\n",
       "party             3158\n",
       "candidatevotes       0\n",
       "totalvotes           0\n",
       "version              0\n",
       "dtype: int64"
      ]
     },
     "execution_count": 11,
     "metadata": {},
     "output_type": "execute_result"
    }
   ],
   "source": [
    "dask_df.isnull().sum().compute()"
   ]
  },
  {
   "cell_type": "markdown",
   "metadata": {},
   "source": [
    "We are left with  missing values in 'party' feature. The missing values is quite large making it critical for us to make a good choice in what to fill it with. Let's get a overview of the unique values in the feature. "
   ]
  },
  {
   "cell_type": "code",
   "execution_count": 12,
   "metadata": {},
   "outputs": [
    {
     "data": {
      "text/plain": [
       "0      democrat\n",
       "1    republican\n",
       "2           NaN\n",
       "Name: party, dtype: object"
      ]
     },
     "execution_count": 12,
     "metadata": {},
     "output_type": "execute_result"
    }
   ],
   "source": [
    "dask_df['party'].unique().compute()"
   ]
  },
  {
   "cell_type": "markdown",
   "metadata": {},
   "source": [
    "As seen above, this depicts the voting parties in the election. To have an unbiased datasets we will fill the missing values with 'not recorded'"
   ]
  },
  {
   "cell_type": "code",
   "execution_count": 13,
   "metadata": {},
   "outputs": [],
   "source": [
    "# Filling the missing values with 'not recorded'\n",
    "dask_df[\"party\"] = dask_df[\"party\"].fillna('Others')"
   ]
  },
  {
   "cell_type": "code",
   "execution_count": 14,
   "metadata": {},
   "outputs": [
    {
     "data": {
      "text/plain": [
       "year              0\n",
       "state             0\n",
       "county            0\n",
       "FIPS              0\n",
       "office            0\n",
       "candidate         0\n",
       "party             0\n",
       "candidatevotes    0\n",
       "totalvotes        0\n",
       "version           0\n",
       "dtype: int64"
      ]
     },
     "execution_count": 14,
     "metadata": {},
     "output_type": "execute_result"
    }
   ],
   "source": [
    "dask_df.isnull().sum().compute()"
   ]
  },
  {
   "cell_type": "markdown",
   "metadata": {},
   "source": [
    "***"
   ]
  },
  {
   "cell_type": "markdown",
   "metadata": {},
   "source": [
    "## Explore and handle data types"
   ]
  },
  {
   "cell_type": "markdown",
   "metadata": {},
   "source": [
    "In reviewing your data, you notice that the `FIPS` field is considered a numeric field instead of a string. As a result, leading zeroes in the FIPS values have been removed. The resulting FIPS values only have four characters instead of five. You will determine how many records are missing leading zeroes and add, or append, the missing zero.\n",
    "![fix_truncated_zeroes](img/trunc_zeroes.gif \"Fix Truncated Zeroes\")\n",
    "\n",
    "Also fields like `year` should be integer value rather than a float."
   ]
  },
  {
   "cell_type": "code",
   "execution_count": 15,
   "metadata": {},
   "outputs": [],
   "source": [
    "# Change the 'FIPS' field to integer firstly, to remove the decimals\n",
    "dask_df['FIPS'] = dask_df['FIPS'].astype('int64')\n",
    "# Then change ot to string\n",
    "dask_df['FIPS'] = dask_df['FIPS'].astype('object')\n",
    "\n",
    "# Change the 'year' field to integer\n",
    "dask_df['year'] = dask_df['year'].astype('int64')"
   ]
  },
  {
   "cell_type": "code",
   "execution_count": 16,
   "metadata": {},
   "outputs": [],
   "source": [
    "# Check how many records have a FIPS value with four characters\n",
    "trunc_df = dask_df.loc[dask_df['FIPS'].str.len() == 4]\n",
    "trunc_data_per = (trunc_df.shape[0] / dask_df.shape[0])*100"
   ]
  },
  {
   "cell_type": "markdown",
   "metadata": {},
   "source": [
    "The following cell creates a function in python that adds a leading zero to the FIPS value if it only has four characters.  "
   ]
  },
  {
   "cell_type": "code",
   "execution_count": 17,
   "metadata": {},
   "outputs": [],
   "source": [
    "# Define a helper function to fix truncated zeros, with one parameter: the value to be processed\n",
    "def fix_trunc_zeros(val):\n",
    "    # Use an if statement to check if there are four characters in the string representation of the value\n",
    "    if len(str(val)) == 4:\n",
    "        # If this is the case, return the value with an appended \"0\" in the front\n",
    "        return \"0\"+str(val)\n",
    "    # Otherwise...\n",
    "    else:\n",
    "        # Return the value itself\n",
    "        return str(val)"
   ]
  },
  {
   "cell_type": "code",
   "execution_count": 18,
   "metadata": {},
   "outputs": [
    {
     "data": {
      "text/plain": [
       "'07042'"
      ]
     },
     "execution_count": 18,
     "metadata": {},
     "output_type": "execute_result"
    }
   ],
   "source": [
    "# Test the function\n",
    "fix_trunc_zeros(7042)  # You should see an appended zero: \"07042\""
   ]
  },
  {
   "cell_type": "code",
   "execution_count": 19,
   "metadata": {},
   "outputs": [
    {
     "data": {
      "text/html": [
       "<div>\n",
       "<style scoped>\n",
       "    .dataframe tbody tr th:only-of-type {\n",
       "        vertical-align: middle;\n",
       "    }\n",
       "\n",
       "    .dataframe tbody tr th {\n",
       "        vertical-align: top;\n",
       "    }\n",
       "\n",
       "    .dataframe thead th {\n",
       "        text-align: right;\n",
       "    }\n",
       "</style>\n",
       "<table border=\"1\" class=\"dataframe\">\n",
       "  <thead>\n",
       "    <tr style=\"text-align: right;\">\n",
       "      <th></th>\n",
       "      <th>year</th>\n",
       "      <th>state</th>\n",
       "      <th>county</th>\n",
       "      <th>FIPS</th>\n",
       "      <th>office</th>\n",
       "      <th>candidate</th>\n",
       "      <th>party</th>\n",
       "      <th>candidatevotes</th>\n",
       "      <th>totalvotes</th>\n",
       "      <th>version</th>\n",
       "    </tr>\n",
       "  </thead>\n",
       "  <tbody>\n",
       "    <tr>\n",
       "      <th>0</th>\n",
       "      <td>2016</td>\n",
       "      <td>Alabama</td>\n",
       "      <td>Autauga</td>\n",
       "      <td>01001</td>\n",
       "      <td>President</td>\n",
       "      <td>Hillary Clinton</td>\n",
       "      <td>democrat</td>\n",
       "      <td>5936.0</td>\n",
       "      <td>24973.0</td>\n",
       "      <td>20190722.0</td>\n",
       "    </tr>\n",
       "    <tr>\n",
       "      <th>1</th>\n",
       "      <td>2016</td>\n",
       "      <td>Alabama</td>\n",
       "      <td>Autauga</td>\n",
       "      <td>01001</td>\n",
       "      <td>President</td>\n",
       "      <td>Donald Trump</td>\n",
       "      <td>republican</td>\n",
       "      <td>18172.0</td>\n",
       "      <td>24973.0</td>\n",
       "      <td>20190722.0</td>\n",
       "    </tr>\n",
       "    <tr>\n",
       "      <th>2</th>\n",
       "      <td>2016</td>\n",
       "      <td>Alabama</td>\n",
       "      <td>Autauga</td>\n",
       "      <td>01001</td>\n",
       "      <td>President</td>\n",
       "      <td>Other</td>\n",
       "      <td>Others</td>\n",
       "      <td>865.0</td>\n",
       "      <td>24973.0</td>\n",
       "      <td>20190722.0</td>\n",
       "    </tr>\n",
       "    <tr>\n",
       "      <th>3</th>\n",
       "      <td>2016</td>\n",
       "      <td>Alabama</td>\n",
       "      <td>Baldwin</td>\n",
       "      <td>01003</td>\n",
       "      <td>President</td>\n",
       "      <td>Hillary Clinton</td>\n",
       "      <td>democrat</td>\n",
       "      <td>18458.0</td>\n",
       "      <td>95215.0</td>\n",
       "      <td>20190722.0</td>\n",
       "    </tr>\n",
       "    <tr>\n",
       "      <th>4</th>\n",
       "      <td>2016</td>\n",
       "      <td>Alabama</td>\n",
       "      <td>Baldwin</td>\n",
       "      <td>01003</td>\n",
       "      <td>President</td>\n",
       "      <td>Donald Trump</td>\n",
       "      <td>republican</td>\n",
       "      <td>72883.0</td>\n",
       "      <td>95215.0</td>\n",
       "      <td>20190722.0</td>\n",
       "    </tr>\n",
       "  </tbody>\n",
       "</table>\n",
       "</div>"
      ],
      "text/plain": [
       "   year    state   county   FIPS     office        candidate       party  \\\n",
       "0  2016  Alabama  Autauga  01001  President  Hillary Clinton    democrat   \n",
       "1  2016  Alabama  Autauga  01001  President     Donald Trump  republican   \n",
       "2  2016  Alabama  Autauga  01001  President            Other      Others   \n",
       "3  2016  Alabama  Baldwin  01003  President  Hillary Clinton    democrat   \n",
       "4  2016  Alabama  Baldwin  01003  President     Donald Trump  republican   \n",
       "\n",
       "   candidatevotes  totalvotes     version  \n",
       "0          5936.0     24973.0  20190722.0  \n",
       "1         18172.0     24973.0  20190722.0  \n",
       "2           865.0     24973.0  20190722.0  \n",
       "3         18458.0     95215.0  20190722.0  \n",
       "4         72883.0     95215.0  20190722.0  "
      ]
     },
     "execution_count": 19,
     "metadata": {},
     "output_type": "execute_result"
    }
   ],
   "source": [
    "# Run the function on the FIPS field using the apply and lambda method \n",
    "dask_df['FIPS'] = dask_df['FIPS'].apply(lambda x: fix_trunc_zeros(x),meta=('FIPS', 'object'))\n",
    "# The metadata makes it possible for Dask not to guess the dtype \n",
    "\n",
    "# Print information on the operation performed, and show the first few records to confirm it worked\n",
    "dask_df.head()"
   ]
  },
  {
   "cell_type": "markdown",
   "metadata": {},
   "source": [
    "***"
   ]
  },
  {
   "cell_type": "markdown",
   "metadata": {},
   "source": [
    "## Reformat the table structure"
   ]
  },
  {
   "cell_type": "markdown",
   "metadata": {},
   "source": [
    "Currently, each record in the table corresponds to a candidate and their votes in a county. You need to reformat the table so that each record corresponds to each county, with fields showing the votes for different candidates in that election year. \n",
    "It is possible to do this using the [Pivot Table geoprocessing tool](https://pro.arcgis.com/en/pro-app/tool-reference/data-management/pivot-table.htm) or Excel pivot tables, but Python may make it easier to automate and share.\n",
    "The animation below illustrates the steps in restructuring the table:\n",
    "\n",
    "The following code cell performs these steps.\n",
    "![reformat_table](img/reformat_table.gif \"Reformat Table\")\n"
   ]
  },
  {
   "cell_type": "code",
   "execution_count": 33,
   "metadata": {},
   "outputs": [],
   "source": [
    "c = dask_df[\"county\"].unique().compute()\n",
    "county = dict((i,dict()) for i in list(c))"
   ]
  },
  {
   "cell_type": "markdown",
   "metadata": {},
   "source": [
    "Creating a new dataframe would have been done by `dd.DataFrame()` but dask advices us not use this class directly.  Instead use functions like\n",
    "``dd.read_csv``, ``dd.read_parquet``, or ``dd.from_pandas``.\n",
    "So, we will work with pandas to create a new dataframe then convert it to a Dask dataframe."
   ]
  },
  {
   "cell_type": "code",
   "execution_count": 20,
   "metadata": {},
   "outputs": [],
   "source": [
    "import pandas as pd\n",
    "from tqdm import tqdm"
   ]
  },
  {
   "cell_type": "code",
   "execution_count": 36,
   "metadata": {},
   "outputs": [
    {
     "name": "stderr",
     "output_type": "stream",
     "text": [
      "100%|██████████| 9474/9474 [13:49<00:00, 11.41it/s]\n"
     ]
    }
   ],
   "source": [
    "i = 0\n",
    "data = []\n",
    "\n",
    "for row in tqdm(range(len(dask_df))):\n",
    "    \n",
    "    df = dask_df.compute()\n",
    "    \n",
    "    c = df.loc[row,\"county\"]\n",
    "    s = df.loc[row,\"state\"]\n",
    "    f = df.loc[row,\"FIPS\"]\n",
    "    \n",
    "    can_nm = df.loc[row, \"candidate\"]\n",
    "    party =  df.loc[row, \"party\"]\n",
    "    votes =  df.loc[row, \"candidatevotes\"]\n",
    "    \n",
    "    if f not in county[c].keys():\n",
    "        county[c][f] = {}\n",
    "        \n",
    "    county[c][f]['county'] = c\n",
    "    county[c][f][\"fips\"] = f\n",
    "    county[c][f][f\"candidate({party.strip()[0]})\"] = can_nm\n",
    "    county[c][f][f\"votes ({party.strip()[0]})\"] = votes\n",
    "    \n",
    "    \n",
    "    "
   ]
  },
  {
   "cell_type": "code",
   "execution_count": 37,
   "metadata": {},
   "outputs": [],
   "source": [
    "data = []\n",
    "for key, items in county.items():\n",
    "    \n",
    "    for key, item in items.items():\n",
    "        data.append(item)"
   ]
  },
  {
   "cell_type": "code",
   "execution_count": 38,
   "metadata": {},
   "outputs": [
    {
     "data": {
      "text/plain": [
       "{'county': 'Autauga',\n",
       " 'fips': '01001',\n",
       " 'candidate(d)': 'Hillary Clinton',\n",
       " 'votes (d)': 5936.0,\n",
       " 'candidate(r)': 'Donald Trump',\n",
       " 'votes (r)': 18172.0,\n",
       " 'candidate(O)': 'Other',\n",
       " 'votes (O)': 865.0}"
      ]
     },
     "execution_count": 38,
     "metadata": {},
     "output_type": "execute_result"
    }
   ],
   "source": [
    "data[0]"
   ]
  },
  {
   "cell_type": "code",
   "execution_count": 24,
   "metadata": {},
   "outputs": [],
   "source": [
    "del data[0]"
   ]
  },
  {
   "cell_type": "code",
   "execution_count": 39,
   "metadata": {},
   "outputs": [],
   "source": [
    "dt = pd.DataFrame(data)\n",
    "df = dd.from_pandas(dt,npartitions=1)"
   ]
  },
  {
   "cell_type": "code",
   "execution_count": 40,
   "metadata": {},
   "outputs": [
    {
     "data": {
      "text/html": [
       "<div>\n",
       "<style scoped>\n",
       "    .dataframe tbody tr th:only-of-type {\n",
       "        vertical-align: middle;\n",
       "    }\n",
       "\n",
       "    .dataframe tbody tr th {\n",
       "        vertical-align: top;\n",
       "    }\n",
       "\n",
       "    .dataframe thead th {\n",
       "        text-align: right;\n",
       "    }\n",
       "</style>\n",
       "<table border=\"1\" class=\"dataframe\">\n",
       "  <thead>\n",
       "    <tr style=\"text-align: right;\">\n",
       "      <th></th>\n",
       "      <th>county</th>\n",
       "      <th>fips</th>\n",
       "      <th>candidate(d)</th>\n",
       "      <th>votes (d)</th>\n",
       "      <th>candidate(r)</th>\n",
       "      <th>votes (r)</th>\n",
       "      <th>candidate(O)</th>\n",
       "      <th>votes (O)</th>\n",
       "    </tr>\n",
       "  </thead>\n",
       "  <tbody>\n",
       "    <tr>\n",
       "      <th>0</th>\n",
       "      <td>Autauga</td>\n",
       "      <td>01001</td>\n",
       "      <td>Hillary Clinton</td>\n",
       "      <td>5936.0</td>\n",
       "      <td>Donald Trump</td>\n",
       "      <td>18172.0</td>\n",
       "      <td>Other</td>\n",
       "      <td>865.0</td>\n",
       "    </tr>\n",
       "    <tr>\n",
       "      <th>1</th>\n",
       "      <td>Baldwin</td>\n",
       "      <td>01003</td>\n",
       "      <td>Hillary Clinton</td>\n",
       "      <td>18458.0</td>\n",
       "      <td>Donald Trump</td>\n",
       "      <td>72883.0</td>\n",
       "      <td>Other</td>\n",
       "      <td>3874.0</td>\n",
       "    </tr>\n",
       "    <tr>\n",
       "      <th>2</th>\n",
       "      <td>Baldwin</td>\n",
       "      <td>13009</td>\n",
       "      <td>Hillary Clinton</td>\n",
       "      <td>7970.0</td>\n",
       "      <td>Donald Trump</td>\n",
       "      <td>7697.0</td>\n",
       "      <td>Other</td>\n",
       "      <td>449.0</td>\n",
       "    </tr>\n",
       "    <tr>\n",
       "      <th>3</th>\n",
       "      <td>Barbour</td>\n",
       "      <td>01005</td>\n",
       "      <td>Hillary Clinton</td>\n",
       "      <td>4871.0</td>\n",
       "      <td>Donald Trump</td>\n",
       "      <td>5454.0</td>\n",
       "      <td>Other</td>\n",
       "      <td>144.0</td>\n",
       "    </tr>\n",
       "    <tr>\n",
       "      <th>4</th>\n",
       "      <td>Barbour</td>\n",
       "      <td>54001</td>\n",
       "      <td>Hillary Clinton</td>\n",
       "      <td>1222.0</td>\n",
       "      <td>Donald Trump</td>\n",
       "      <td>4527.0</td>\n",
       "      <td>Other</td>\n",
       "      <td>305.0</td>\n",
       "    </tr>\n",
       "  </tbody>\n",
       "</table>\n",
       "</div>"
      ],
      "text/plain": [
       "    county   fips     candidate(d)  votes (d)  candidate(r)  votes (r)  \\\n",
       "0  Autauga  01001  Hillary Clinton     5936.0  Donald Trump    18172.0   \n",
       "1  Baldwin  01003  Hillary Clinton    18458.0  Donald Trump    72883.0   \n",
       "2  Baldwin  13009  Hillary Clinton     7970.0  Donald Trump     7697.0   \n",
       "3  Barbour  01005  Hillary Clinton     4871.0  Donald Trump     5454.0   \n",
       "4  Barbour  54001  Hillary Clinton     1222.0  Donald Trump     4527.0   \n",
       "\n",
       "  candidate(O)  votes (O)  \n",
       "0        Other      865.0  \n",
       "1        Other     3874.0  \n",
       "2        Other      449.0  \n",
       "3        Other      144.0  \n",
       "4        Other      305.0  "
      ]
     },
     "execution_count": 40,
     "metadata": {},
     "output_type": "execute_result"
    }
   ],
   "source": [
    "df.head()"
   ]
  },
  {
   "cell_type": "code",
   "execution_count": 1,
   "metadata": {},
   "outputs": [],
   "source": [
    "# if \"Autauga\" in county.keys():\n",
    "#     print(\"f\")"
   ]
  },
  {
   "cell_type": "code",
   "execution_count": 2,
   "metadata": {},
   "outputs": [],
   "source": [
    "# v = dask_df[\"county\"].compute()"
   ]
  },
  {
   "cell_type": "code",
   "execution_count": 3,
   "metadata": {},
   "outputs": [],
   "source": [
    "# dask_df.compute().iloc[1,3]"
   ]
  },
  {
   "cell_type": "code",
   "execution_count": 4,
   "metadata": {},
   "outputs": [],
   "source": [
    "# b = c.astype(\"object\")"
   ]
  },
  {
   "cell_type": "markdown",
   "metadata": {},
   "source": [
    "***"
   ]
  },
  {
   "cell_type": "markdown",
   "metadata": {},
   "source": [
    "## Calculate additional columns: Feature Engineering"
   ]
  },
  {
   "cell_type": "markdown",
   "metadata": {},
   "source": [
    "Here, we will be using the values from the updated table to add additional columns of information, such as the number of votes for a non major party, the percentage of voters for each party, and so on. Each column is referred to as an attribute of the dataset."
   ]
  },
  {
   "cell_type": "code",
   "execution_count": 41,
   "metadata": {},
   "outputs": [
    {
     "data": {
      "text/plain": [
       "Index(['county', 'fips', 'candidate(d)', 'votes (d)', 'candidate(r)',\n",
       "       'votes (r)', 'candidate(O)', 'votes (O)'],\n",
       "      dtype='object')"
      ]
     },
     "execution_count": 41,
     "metadata": {},
     "output_type": "execute_result"
    }
   ],
   "source": [
    "df.columns"
   ]
  },
  {
   "cell_type": "markdown",
   "metadata": {},
   "source": [
    "##### Check :Calculate an attribute for the total votes"
   ]
  },
  {
   "cell_type": "code",
   "execution_count": 42,
   "metadata": {},
   "outputs": [],
   "source": [
    "df['votes_total'] = df['votes (d)'] + df['votes (r)'] + df['votes (O)']"
   ]
  },
  {
   "cell_type": "code",
   "execution_count": 43,
   "metadata": {},
   "outputs": [
    {
     "data": {
      "text/html": [
       "<div>\n",
       "<style scoped>\n",
       "    .dataframe tbody tr th:only-of-type {\n",
       "        vertical-align: middle;\n",
       "    }\n",
       "\n",
       "    .dataframe tbody tr th {\n",
       "        vertical-align: top;\n",
       "    }\n",
       "\n",
       "    .dataframe thead th {\n",
       "        text-align: right;\n",
       "    }\n",
       "</style>\n",
       "<table border=\"1\" class=\"dataframe\">\n",
       "  <thead>\n",
       "    <tr style=\"text-align: right;\">\n",
       "      <th></th>\n",
       "      <th>county</th>\n",
       "      <th>fips</th>\n",
       "      <th>candidate(d)</th>\n",
       "      <th>votes (d)</th>\n",
       "      <th>candidate(r)</th>\n",
       "      <th>votes (r)</th>\n",
       "      <th>candidate(O)</th>\n",
       "      <th>votes (O)</th>\n",
       "      <th>votes_total</th>\n",
       "    </tr>\n",
       "  </thead>\n",
       "  <tbody>\n",
       "    <tr>\n",
       "      <th>0</th>\n",
       "      <td>Autauga</td>\n",
       "      <td>01001</td>\n",
       "      <td>Hillary Clinton</td>\n",
       "      <td>5936.0</td>\n",
       "      <td>Donald Trump</td>\n",
       "      <td>18172.0</td>\n",
       "      <td>Other</td>\n",
       "      <td>865.0</td>\n",
       "      <td>24973.0</td>\n",
       "    </tr>\n",
       "    <tr>\n",
       "      <th>1</th>\n",
       "      <td>Baldwin</td>\n",
       "      <td>01003</td>\n",
       "      <td>Hillary Clinton</td>\n",
       "      <td>18458.0</td>\n",
       "      <td>Donald Trump</td>\n",
       "      <td>72883.0</td>\n",
       "      <td>Other</td>\n",
       "      <td>3874.0</td>\n",
       "      <td>95215.0</td>\n",
       "    </tr>\n",
       "    <tr>\n",
       "      <th>2</th>\n",
       "      <td>Baldwin</td>\n",
       "      <td>13009</td>\n",
       "      <td>Hillary Clinton</td>\n",
       "      <td>7970.0</td>\n",
       "      <td>Donald Trump</td>\n",
       "      <td>7697.0</td>\n",
       "      <td>Other</td>\n",
       "      <td>449.0</td>\n",
       "      <td>16116.0</td>\n",
       "    </tr>\n",
       "    <tr>\n",
       "      <th>3</th>\n",
       "      <td>Barbour</td>\n",
       "      <td>01005</td>\n",
       "      <td>Hillary Clinton</td>\n",
       "      <td>4871.0</td>\n",
       "      <td>Donald Trump</td>\n",
       "      <td>5454.0</td>\n",
       "      <td>Other</td>\n",
       "      <td>144.0</td>\n",
       "      <td>10469.0</td>\n",
       "    </tr>\n",
       "    <tr>\n",
       "      <th>4</th>\n",
       "      <td>Barbour</td>\n",
       "      <td>54001</td>\n",
       "      <td>Hillary Clinton</td>\n",
       "      <td>1222.0</td>\n",
       "      <td>Donald Trump</td>\n",
       "      <td>4527.0</td>\n",
       "      <td>Other</td>\n",
       "      <td>305.0</td>\n",
       "      <td>6054.0</td>\n",
       "    </tr>\n",
       "  </tbody>\n",
       "</table>\n",
       "</div>"
      ],
      "text/plain": [
       "    county   fips     candidate(d)  votes (d)  candidate(r)  votes (r)  \\\n",
       "0  Autauga  01001  Hillary Clinton     5936.0  Donald Trump    18172.0   \n",
       "1  Baldwin  01003  Hillary Clinton    18458.0  Donald Trump    72883.0   \n",
       "2  Baldwin  13009  Hillary Clinton     7970.0  Donald Trump     7697.0   \n",
       "3  Barbour  01005  Hillary Clinton     4871.0  Donald Trump     5454.0   \n",
       "4  Barbour  54001  Hillary Clinton     1222.0  Donald Trump     4527.0   \n",
       "\n",
       "  candidate(O)  votes (O)  votes_total  \n",
       "0        Other      865.0      24973.0  \n",
       "1        Other     3874.0      95215.0  \n",
       "2        Other      449.0      16116.0  \n",
       "3        Other      144.0      10469.0  \n",
       "4        Other      305.0       6054.0  "
      ]
     },
     "execution_count": 43,
     "metadata": {},
     "output_type": "execute_result"
    }
   ],
   "source": [
    "df.head()"
   ]
  },
  {
   "cell_type": "markdown",
   "metadata": {},
   "source": [
    "##### Calculate additional attributes"
   ]
  },
  {
   "cell_type": "code",
   "execution_count": 44,
   "metadata": {},
   "outputs": [
    {
     "data": {
      "text/html": [
       "<div>\n",
       "<style scoped>\n",
       "    .dataframe tbody tr th:only-of-type {\n",
       "        vertical-align: middle;\n",
       "    }\n",
       "\n",
       "    .dataframe tbody tr th {\n",
       "        vertical-align: top;\n",
       "    }\n",
       "\n",
       "    .dataframe thead th {\n",
       "        text-align: right;\n",
       "    }\n",
       "</style>\n",
       "<table border=\"1\" class=\"dataframe\">\n",
       "  <thead>\n",
       "    <tr style=\"text-align: right;\">\n",
       "      <th></th>\n",
       "      <th>county</th>\n",
       "      <th>fips</th>\n",
       "      <th>candidate(d)</th>\n",
       "      <th>votes (d)</th>\n",
       "      <th>candidate(r)</th>\n",
       "      <th>votes (r)</th>\n",
       "      <th>candidate(O)</th>\n",
       "      <th>votes (O)</th>\n",
       "      <th>votes_total</th>\n",
       "      <th>voter_share_major_party</th>\n",
       "      <th>...</th>\n",
       "      <th>rawdiff_dem_vs_other</th>\n",
       "      <th>rawdiff_gop_vs_other</th>\n",
       "      <th>rawdiff_other_vs_dem</th>\n",
       "      <th>rawdiff_other_vs_gop</th>\n",
       "      <th>pctdiff_dem_vs_gop</th>\n",
       "      <th>pctdiff_gop_vs_dem</th>\n",
       "      <th>pctdiff_dem_vs_other</th>\n",
       "      <th>pctdiff_gop_vs_other</th>\n",
       "      <th>pctdiff_other_vs_dem</th>\n",
       "      <th>pctdiff_other_vs_gop</th>\n",
       "    </tr>\n",
       "  </thead>\n",
       "  <tbody>\n",
       "    <tr>\n",
       "      <th>0</th>\n",
       "      <td>Autauga</td>\n",
       "      <td>01001</td>\n",
       "      <td>Hillary Clinton</td>\n",
       "      <td>5936.0</td>\n",
       "      <td>Donald Trump</td>\n",
       "      <td>18172.0</td>\n",
       "      <td>Other</td>\n",
       "      <td>865.0</td>\n",
       "      <td>24973.0</td>\n",
       "      <td>0.965363</td>\n",
       "      <td>...</td>\n",
       "      <td>5071.0</td>\n",
       "      <td>17307.0</td>\n",
       "      <td>-5071.0</td>\n",
       "      <td>-17307.0</td>\n",
       "      <td>-0.489969</td>\n",
       "      <td>0.489969</td>\n",
       "      <td>0.203059</td>\n",
       "      <td>0.693028</td>\n",
       "      <td>-0.203059</td>\n",
       "      <td>-0.693028</td>\n",
       "    </tr>\n",
       "    <tr>\n",
       "      <th>1</th>\n",
       "      <td>Baldwin</td>\n",
       "      <td>01003</td>\n",
       "      <td>Hillary Clinton</td>\n",
       "      <td>18458.0</td>\n",
       "      <td>Donald Trump</td>\n",
       "      <td>72883.0</td>\n",
       "      <td>Other</td>\n",
       "      <td>3874.0</td>\n",
       "      <td>95215.0</td>\n",
       "      <td>0.959313</td>\n",
       "      <td>...</td>\n",
       "      <td>14584.0</td>\n",
       "      <td>69009.0</td>\n",
       "      <td>-14584.0</td>\n",
       "      <td>-69009.0</td>\n",
       "      <td>-0.571601</td>\n",
       "      <td>0.571601</td>\n",
       "      <td>0.153169</td>\n",
       "      <td>0.724770</td>\n",
       "      <td>-0.153169</td>\n",
       "      <td>-0.724770</td>\n",
       "    </tr>\n",
       "    <tr>\n",
       "      <th>2</th>\n",
       "      <td>Baldwin</td>\n",
       "      <td>13009</td>\n",
       "      <td>Hillary Clinton</td>\n",
       "      <td>7970.0</td>\n",
       "      <td>Donald Trump</td>\n",
       "      <td>7697.0</td>\n",
       "      <td>Other</td>\n",
       "      <td>449.0</td>\n",
       "      <td>16116.0</td>\n",
       "      <td>0.972139</td>\n",
       "      <td>...</td>\n",
       "      <td>7521.0</td>\n",
       "      <td>7248.0</td>\n",
       "      <td>-7521.0</td>\n",
       "      <td>-7248.0</td>\n",
       "      <td>0.016940</td>\n",
       "      <td>-0.016940</td>\n",
       "      <td>0.466679</td>\n",
       "      <td>0.449739</td>\n",
       "      <td>-0.466679</td>\n",
       "      <td>-0.449739</td>\n",
       "    </tr>\n",
       "    <tr>\n",
       "      <th>3</th>\n",
       "      <td>Barbour</td>\n",
       "      <td>01005</td>\n",
       "      <td>Hillary Clinton</td>\n",
       "      <td>4871.0</td>\n",
       "      <td>Donald Trump</td>\n",
       "      <td>5454.0</td>\n",
       "      <td>Other</td>\n",
       "      <td>144.0</td>\n",
       "      <td>10469.0</td>\n",
       "      <td>0.986245</td>\n",
       "      <td>...</td>\n",
       "      <td>4727.0</td>\n",
       "      <td>5310.0</td>\n",
       "      <td>-4727.0</td>\n",
       "      <td>-5310.0</td>\n",
       "      <td>-0.055688</td>\n",
       "      <td>0.055688</td>\n",
       "      <td>0.451524</td>\n",
       "      <td>0.507212</td>\n",
       "      <td>-0.451524</td>\n",
       "      <td>-0.507212</td>\n",
       "    </tr>\n",
       "    <tr>\n",
       "      <th>4</th>\n",
       "      <td>Barbour</td>\n",
       "      <td>54001</td>\n",
       "      <td>Hillary Clinton</td>\n",
       "      <td>1222.0</td>\n",
       "      <td>Donald Trump</td>\n",
       "      <td>4527.0</td>\n",
       "      <td>Other</td>\n",
       "      <td>305.0</td>\n",
       "      <td>6054.0</td>\n",
       "      <td>0.949620</td>\n",
       "      <td>...</td>\n",
       "      <td>917.0</td>\n",
       "      <td>4222.0</td>\n",
       "      <td>-917.0</td>\n",
       "      <td>-4222.0</td>\n",
       "      <td>-0.545920</td>\n",
       "      <td>0.545920</td>\n",
       "      <td>0.151470</td>\n",
       "      <td>0.697390</td>\n",
       "      <td>-0.151470</td>\n",
       "      <td>-0.697390</td>\n",
       "    </tr>\n",
       "  </tbody>\n",
       "</table>\n",
       "<p>5 rows × 25 columns</p>\n",
       "</div>"
      ],
      "text/plain": [
       "    county   fips     candidate(d)  votes (d)  candidate(r)  votes (r)  \\\n",
       "0  Autauga  01001  Hillary Clinton     5936.0  Donald Trump    18172.0   \n",
       "1  Baldwin  01003  Hillary Clinton    18458.0  Donald Trump    72883.0   \n",
       "2  Baldwin  13009  Hillary Clinton     7970.0  Donald Trump     7697.0   \n",
       "3  Barbour  01005  Hillary Clinton     4871.0  Donald Trump     5454.0   \n",
       "4  Barbour  54001  Hillary Clinton     1222.0  Donald Trump     4527.0   \n",
       "\n",
       "  candidate(O)  votes (O)  votes_total  voter_share_major_party  ...  \\\n",
       "0        Other      865.0      24973.0                 0.965363  ...   \n",
       "1        Other     3874.0      95215.0                 0.959313  ...   \n",
       "2        Other      449.0      16116.0                 0.972139  ...   \n",
       "3        Other      144.0      10469.0                 0.986245  ...   \n",
       "4        Other      305.0       6054.0                 0.949620  ...   \n",
       "\n",
       "   rawdiff_dem_vs_other  rawdiff_gop_vs_other  rawdiff_other_vs_dem  \\\n",
       "0                5071.0               17307.0               -5071.0   \n",
       "1               14584.0               69009.0              -14584.0   \n",
       "2                7521.0                7248.0               -7521.0   \n",
       "3                4727.0                5310.0               -4727.0   \n",
       "4                 917.0                4222.0                -917.0   \n",
       "\n",
       "   rawdiff_other_vs_gop  pctdiff_dem_vs_gop  pctdiff_gop_vs_dem  \\\n",
       "0              -17307.0           -0.489969            0.489969   \n",
       "1              -69009.0           -0.571601            0.571601   \n",
       "2               -7248.0            0.016940           -0.016940   \n",
       "3               -5310.0           -0.055688            0.055688   \n",
       "4               -4222.0           -0.545920            0.545920   \n",
       "\n",
       "   pctdiff_dem_vs_other  pctdiff_gop_vs_other  pctdiff_other_vs_dem  \\\n",
       "0              0.203059              0.693028             -0.203059   \n",
       "1              0.153169              0.724770             -0.153169   \n",
       "2              0.466679              0.449739             -0.466679   \n",
       "3              0.451524              0.507212             -0.451524   \n",
       "4              0.151470              0.697390             -0.151470   \n",
       "\n",
       "   pctdiff_other_vs_gop  \n",
       "0             -0.693028  \n",
       "1             -0.724770  \n",
       "2             -0.449739  \n",
       "3             -0.507212  \n",
       "4             -0.697390  \n",
       "\n",
       "[5 rows x 25 columns]"
      ]
     },
     "execution_count": 44,
     "metadata": {},
     "output_type": "execute_result"
    }
   ],
   "source": [
    "# Calculate voter share attributes\n",
    "df['voter_share_major_party'] = (df['votes (d)'] + df['votes (r)']) / df['votes_total']\n",
    "df['voter_share_dem'] = df['votes (d)'] / df['votes_total']\n",
    "df['voter_share_gop'] = df['votes (r)'] / df['votes_total']\n",
    "df['voter_share_other'] = df['votes (O)'] / df['votes_total']\n",
    "\n",
    "# Calculate raw difference attributes\n",
    "df['rawdiff_dem_vs_gop'] = df['votes (d)'] - df['votes (r)']\n",
    "df['rawdiff_gop_vs_dem'] = df['votes (r)'] - df['votes (d)']\n",
    "df['rawdiff_dem_vs_other'] = df['votes (d)'] - df['votes (O)']\n",
    "df['rawdiff_gop_vs_other'] = df['votes (r)'] - df['votes (O)']\n",
    "df['rawdiff_other_vs_dem'] = df['votes (O)'] - df['votes (d)']\n",
    "df['rawdiff_other_vs_gop'] = df['votes (O)'] - df['votes (r)']\n",
    "\n",
    "# Calculate percent difference attributes\n",
    "df['pctdiff_dem_vs_gop'] = (df['votes (d)'] - df['votes (r)']) / df['votes_total']\n",
    "df['pctdiff_gop_vs_dem'] = (df['votes (r)'] - df['votes (d)']) / df['votes_total']\n",
    "df['pctdiff_dem_vs_other'] = (df['votes (d)'] - df['votes (O)']) / df['votes_total']\n",
    "df['pctdiff_gop_vs_other'] = (df['votes (r)'] - df['votes (O)']) / df['votes_total']\n",
    "df['pctdiff_other_vs_dem'] = (df['votes (O)'] - df['votes (d)']) / df['votes_total']\n",
    "df['pctdiff_other_vs_gop'] = (df['votes (O)'] - df['votes (r)']) / df['votes_total']\n",
    "\n",
    "df.head()"
   ]
  },
  {
   "cell_type": "markdown",
   "metadata": {},
   "source": [
    "***"
   ]
  },
  {
   "cell_type": "markdown",
   "metadata": {},
   "source": [
    "## Geoenable the data"
   ]
  },
  {
   "cell_type": "markdown",
   "metadata": {},
   "source": [
    "You will eventually use this data in a spatial analysis. This means that the data needs to include location information to determine where the data is located on a map. You will geoenable the data, or add location to the data, using existing geoenabled county data."
   ]
  },
  {
   "cell_type": "markdown",
   "metadata": {},
   "source": [
    "##### Define the ArcGIS Pro project, database, and existing geoenabled data"
   ]
  },
  {
   "cell_type": "code",
   "execution_count": 45,
   "metadata": {},
   "outputs": [
    {
     "ename": "NameError",
     "evalue": "name 'arcpy' is not defined",
     "output_type": "error",
     "traceback": [
      "\u001b[0;31m---------------------------------------------------------------------------\u001b[0m",
      "\u001b[0;31mNameError\u001b[0m                                 Traceback (most recent call last)",
      "\u001b[0;32m<ipython-input-45-382304b679a3>\u001b[0m in \u001b[0;36m<module>\u001b[0;34m\u001b[0m\n\u001b[1;32m      1\u001b[0m \u001b[0;31m# Create variables that represent the ArcGIS Pro project and map\u001b[0m\u001b[0;34m\u001b[0m\u001b[0;34m\u001b[0m\u001b[0;34m\u001b[0m\u001b[0m\n\u001b[0;32m----> 2\u001b[0;31m \u001b[0maprx\u001b[0m \u001b[0;34m=\u001b[0m \u001b[0marcpy\u001b[0m\u001b[0;34m.\u001b[0m\u001b[0mmp\u001b[0m\u001b[0;34m.\u001b[0m\u001b[0mArcGISProject\u001b[0m\u001b[0;34m(\u001b[0m\u001b[0;34m\"CURRENT\"\u001b[0m\u001b[0;34m)\u001b[0m\u001b[0;34m\u001b[0m\u001b[0;34m\u001b[0m\u001b[0m\n\u001b[0m\u001b[1;32m      3\u001b[0m \u001b[0mmp\u001b[0m \u001b[0;34m=\u001b[0m \u001b[0maprx\u001b[0m\u001b[0;34m.\u001b[0m\u001b[0mlistMaps\u001b[0m\u001b[0;34m(\u001b[0m\u001b[0;34m'Data Engineering'\u001b[0m\u001b[0;34m)\u001b[0m\u001b[0;34m[\u001b[0m\u001b[0;36m0\u001b[0m\u001b[0;34m]\u001b[0m\u001b[0;34m\u001b[0m\u001b[0;34m\u001b[0m\u001b[0m\n\u001b[1;32m      4\u001b[0m \u001b[0;34m\u001b[0m\u001b[0m\n\u001b[1;32m      5\u001b[0m \u001b[0;31m# Create a variable that represents the default file geodatabase\u001b[0m\u001b[0;34m\u001b[0m\u001b[0;34m\u001b[0m\u001b[0;34m\u001b[0m\u001b[0m\n",
      "\u001b[0;31mNameError\u001b[0m: name 'arcpy' is not defined"
     ]
    }
   ],
   "source": [
    "# Create variables that represent the ArcGIS Pro project and map\n",
    "aprx = arcpy.mp.ArcGISProject(\"CURRENT\")\n",
    "mp = aprx.listMaps('Data Engineering')[0]\n",
    "\n",
    "# Create a variable that represents the default file geodatabase\n",
    "fgdb = r\"Data Engineering and Visualization.gdb\"\n",
    "aprx.defaultGeodatabase = fgdb\n",
    "arcpy.env.workspace = fgdb"
   ]
  },
  {
   "cell_type": "markdown",
   "metadata": {},
   "source": [
    "There are various resources that you can use to find geoenabled data. [ArcGIS Living Atlas of the World](https://livingatlas.arcgis.com) is an authoritative source provided by Esri. Each record in your election data represents information for a county, so you will use a Living Atlas dataset that represents county geometry. This dataset has been downloaded and added to your project."
   ]
  },
  {
   "cell_type": "code",
   "execution_count": null,
   "metadata": {},
   "outputs": [],
   "source": [
    "# Create a variable that represents the county geometry dataset\n",
    "counties_fc_name = \"Counties_2016_VotingAgePopulation\"\n",
    "counties_fc = os.path.join(fgdb, counties_fc_name)"
   ]
  },
  {
   "cell_type": "markdown",
   "metadata": {},
   "source": [
    "**Note: Executing the following cell may take a few minutes.**"
   ]
  },
  {
   "cell_type": "code",
   "execution_count": null,
   "metadata": {},
   "outputs": [],
   "source": [
    "# Load the dataset into a spatially-enabled dataframe\n",
    "counties_df = pd.DataFrame.spatial.from_featureclass(counties_fc)\n",
    "counties_df.head()"
   ]
  },
  {
   "cell_type": "markdown",
   "metadata": {},
   "source": [
    "The county geometry dataset includes various attributes. You will simplify the dataframe to only include the attributes that you need. The Total_cvap_est attribute represents the total population in each county that are of voting age for the year 2016."
   ]
  },
  {
   "cell_type": "code",
   "execution_count": null,
   "metadata": {},
   "outputs": [],
   "source": [
    "# Modify the dataframe to only include the attributes that are needed\n",
    "counties_df = counties_df[['OBJECTID', 'GEOID', 'GEONAME',\n",
    "                           'Total_cvap_est',\n",
    "                           'SHAPE', 'Shape__Area', 'Shape__Length']]\n",
    "counties_df.head()"
   ]
  },
  {
   "cell_type": "markdown",
   "metadata": {},
   "source": [
    "Part 2 entails:\n",
    "- Geoenable data\n",
    "- Join the data\n",
    "- Query and calculate attributes\n",
    "- Validate the data\n",
    "- Update validate data\n",
    "- Convert dataframe to feature classes\n",
    "- Correct for missing values"
   ]
  }
 ],
 "metadata": {
  "kernelspec": {
   "display_name": "Python 3",
   "language": "python",
   "name": "python3"
  },
  "language_info": {
   "codemirror_mode": {
    "name": "ipython",
    "version": 3
   },
   "file_extension": ".py",
   "mimetype": "text/x-python",
   "name": "python",
   "nbconvert_exporter": "python",
   "pygments_lexer": "ipython3",
   "version": "3.7.3"
  }
 },
 "nbformat": 4,
 "nbformat_minor": 4
}
